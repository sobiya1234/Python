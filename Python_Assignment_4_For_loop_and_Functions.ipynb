{
  "cells": [
    {
      "cell_type": "markdown",
      "metadata": {
        "id": "view-in-github",
        "colab_type": "text"
      },
      "source": [
        "<a href=\"https://colab.research.google.com/github/sobiya1234/Python/blob/main/Python_Assignment_4_For_loop_and_Functions.ipynb\" target=\"_parent\"><img src=\"https://colab.research.google.com/assets/colab-badge.svg\" alt=\"Open In Colab\"/></a>"
      ]
    },
    {
      "cell_type": "markdown",
      "source": [
        "For Loop"
      ],
      "metadata": {
        "id": "XU-lc6U2P98N"
      }
    },
    {
      "cell_type": "code",
      "source": [
        "#1.\tPrompt user for Input. Ask the user to enter a number for which they want to generate a multiplication table.\n",
        "\n",
        "number = int(input(\"Enter a number to generate its multiplication table: \"))\n",
        "\n",
        "#2.\tGenerate the Multiplication Table: Use a for loop to iterate through the numbers 1 to 10. In each iteration, calculate the product of the user's number and the current number from the loop.\n",
        "\n",
        "print(f\"Multiplication Table for {number}:\")\n",
        "\n",
        "for i in range(1, 11):\n",
        "\n",
        "#3.Display the Multiplication Table: Print each line of the multiplication table in the format: \"number x i = result\".\n",
        "\n",
        "    result = number * i\n",
        "\n",
        "    print(f\"{number} x {i} = {result}\")"
      ],
      "metadata": {
        "colab": {
          "base_uri": "https://localhost:8080/"
        },
        "id": "_fYuF7tsJlKj",
        "outputId": "588e0513-56ab-4dee-db9c-1384b7d351b7"
      },
      "execution_count": null,
      "outputs": [
        {
          "output_type": "stream",
          "name": "stdout",
          "text": [
            "Enter a number to generate its multiplication table: 11\n",
            "Multiplication Table for 11:\n",
            "11 x 1 = 11\n",
            "11 x 2 = 22\n",
            "11 x 3 = 33\n",
            "11 x 4 = 44\n",
            "11 x 5 = 55\n",
            "11 x 6 = 66\n",
            "11 x 7 = 77\n",
            "11 x 8 = 88\n",
            "11 x 9 = 99\n",
            "11 x 10 = 110\n"
          ]
        }
      ]
    },
    {
      "cell_type": "markdown",
      "source": [
        "BMI Calculator"
      ],
      "metadata": {
        "id": "wPnsmcvFQKks"
      }
    },
    {
      "cell_type": "code",
      "source": [
        "#1.\tDefine a function calculate_bmi(weight, height) that returns the BMI.\n",
        "\n",
        "def calculate_bmi(weight, height):\n",
        "    bmi = weight / (height ** 2)  # BMI formula\n",
        "    return bmi\n",
        "#2.\tPrompt the user for their weight (in kg) and height (in meters).\n",
        "\n",
        "weight = float(input(\"Enter your weight in kilograms (kg): \"))\n",
        "height = float(input(\"Enter your height in meters (m): \"))\n",
        "\n",
        "#3.\tUse the function to calculate and display the BMI\n",
        "\n",
        "bmi = calculate_bmi(weight, height)\n",
        "\n",
        "print(f\"Your Body Mass Index (BMI) is: {bmi:.2f}\")"
      ],
      "metadata": {
        "colab": {
          "base_uri": "https://localhost:8080/"
        },
        "id": "SdZBwf1ZOfTY",
        "outputId": "eaa7bc2f-ad84-45b5-fe24-6423893b7889"
      },
      "execution_count": null,
      "outputs": [
        {
          "output_type": "stream",
          "name": "stdout",
          "text": [
            "Enter your weight in kilograms (kg): 47\n",
            "Enter your height in meters (m): 1.65\n",
            "Your Body Mass Index (BMI) is: 17.26\n"
          ]
        }
      ]
    }
  ],
  "metadata": {
    "colab": {
      "provenance": [],
      "include_colab_link": true
    },
    "kernelspec": {
      "display_name": "Python 3",
      "name": "python3"
    }
  },
  "nbformat": 4,
  "nbformat_minor": 0
}