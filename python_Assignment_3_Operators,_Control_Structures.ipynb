{
  "cells": [
    {
      "cell_type": "markdown",
      "metadata": {
        "id": "view-in-github",
        "colab_type": "text"
      },
      "source": [
        "<a href=\"https://colab.research.google.com/github/sobiya1234/Python/blob/main/python_Assignment_3_Operators%2C_Control_Structures.ipynb\" target=\"_parent\"><img src=\"https://colab.research.google.com/assets/colab-badge.svg\" alt=\"Open In Colab\"/></a>"
      ]
    },
    {
      "cell_type": "markdown",
      "source": [
        "\n",
        "# Operators & Conditional Statements :\n",
        "\n",
        "\n"
      ],
      "metadata": {
        "id": "uhmpE3rOzDR1"
      }
    },
    {
      "cell_type": "markdown",
      "source": [
        "1.\tPrompt user for Input. Score range should be from 0 to 10."
      ],
      "metadata": {
        "id": "O7Ek-o396Byx"
      }
    },
    {
      "cell_type": "code",
      "source": [
        "while True:\n",
        "    try:\n",
        "        score = int(input(\"Enter a score (0-10): \"))\n",
        "        if 0 <= score <= 10:\n",
        "            print(f\"Valid score entered: {score}\")\n",
        "            break\n",
        "        else:\n",
        "            print(\"Invalid input. Please enter a number between 0 and 10.\")\n",
        "    except ValueError:\n",
        "        print(\"Invalid input. Please enter a valid integer.\")\n",
        "\n"
      ],
      "metadata": {
        "id": "Vwwf0iB_yeby",
        "outputId": "40369927-b242-4567-d4a6-8d24be87873c",
        "colab": {
          "base_uri": "https://localhost:8080/"
        }
      },
      "execution_count": null,
      "outputs": [
        {
          "output_type": "stream",
          "name": "stdout",
          "text": [
            "Enter a score (0-10): 3\n",
            "Valid score entered: 3\n"
          ]
        }
      ]
    },
    {
      "cell_type": "markdown",
      "source": [
        "#2.\tFind the performance category based on the input score using following criteria:"
      ],
      "metadata": {
        "id": "i2wf9GEm5wmm"
      }
    },
    {
      "cell_type": "code",
      "source": [
        "\n",
        "score = int(input(\"Enter your score (0 to 10): \"))\n",
        "\n",
        "\n",
        "if score < 0 or score > 10:\n",
        "    print(\"Error: Score must be between 0 and 10.\")\n",
        "else:\n",
        "\n",
        "   if 0 <= score <= 10:\n",
        "            if score > 7:\n",
        "                category = \"Above Average\"\n",
        "            elif 4 <= score <= 7:\n",
        "                category = \"Average\"\n",
        "            else:\n",
        "                category = \"Below Average\"\n",
        "\n",
        "\n",
        "\n",
        "      #3. Output: Print the Performance category\n",
        "   print(f\"Performance Category: {category}\")"
      ],
      "metadata": {
        "id": "FyOvwmKKzN88",
        "outputId": "07131b89-8b7c-4cd6-b165-340707a114ff",
        "colab": {
          "base_uri": "https://localhost:8080/"
        }
      },
      "execution_count": null,
      "outputs": [
        {
          "output_type": "stream",
          "name": "stdout",
          "text": [
            "Enter your score (0 to 10): 5\n",
            "Performance Category: Average\n"
          ]
        }
      ]
    },
    {
      "cell_type": "markdown",
      "source": [
        "4.You can give a prompt of your choice to each category."
      ],
      "metadata": {
        "id": "zS6rFOGa5-IR"
      }
    },
    {
      "cell_type": "code",
      "source": [
        "#4.\n",
        "score = int(input(\"Enter your score (0 to 10): \"))\n",
        "\n",
        "\n",
        "if score < 0 or score > 10:\n",
        "    print(\"Error: Score must be between 0 and 10.\")\n",
        "else:\n",
        "\n",
        "   if 0 <= score <= 10:\n",
        "            if score > 7:\n",
        "                print(\"Performance Category: Above Average\")\n",
        "                print(\"Great job! Keep up the excellent work and continue striving for success.\")\n",
        "            elif 4 <= score <= 7:\n",
        "                print(\"Performance Category: Average\")\n",
        "                print(\"You're doing well! With a little more effort, you can reach the next level.\")\n",
        "            else:\n",
        "                print(\"Performance Category: Below Average\")\n",
        "                print(\"Need to improve your performance. Consistent practice will lead to better results.\")\n"
      ],
      "metadata": {
        "id": "c0UPioj7XqAv",
        "outputId": "d630eb59-ad53-4a91-f913-d18606d7750b",
        "colab": {
          "base_uri": "https://localhost:8080/"
        }
      },
      "execution_count": null,
      "outputs": [
        {
          "output_type": "stream",
          "name": "stdout",
          "text": [
            "Enter your score (0 to 10): 7\n",
            "Performance Category: Average\n",
            "You're doing well! With a little more effort, you can reach the next level.\n"
          ]
        }
      ]
    },
    {
      "cell_type": "markdown",
      "source": [
        "# **While** loop & Control Statements :\n"
      ],
      "metadata": {
        "id": "dovxwq6aleqW"
      }
    },
    {
      "cell_type": "code",
      "source": [
        "import random\n",
        "\n",
        "random_number = random.randint(1, 10)\n",
        "\n",
        "\n",
        "print(\"Guess the number between 1 and 10:\")\n",
        "\n",
        "\n",
        "user_guess = int(input())\n",
        "\n",
        "if user_guess == random_number:\n",
        "    print(\"Congratulations! You guessed the right number.\")\n",
        "else:\n",
        "    print(f\"Sorry, the correct number was {random_number:}. Better luck next time!\")\n"
      ],
      "metadata": {
        "id": "Zlvb-TWiZrm0",
        "outputId": "28927aeb-7aca-40e4-878a-6f11b6698ba6",
        "colab": {
          "base_uri": "https://localhost:8080/"
        }
      },
      "execution_count": null,
      "outputs": [
        {
          "output_type": "stream",
          "name": "stdout",
          "text": [
            "Guess the number between 1 and 10:\n",
            "6\n",
            "Congratulations! You guessed the right number.\n"
          ]
        }
      ]
    },
    {
      "cell_type": "code",
      "source": [
        "import random\n",
        "\n",
        "random_number = random.randint(1, 10)\n",
        "\n",
        "\n",
        "attempts = 3\n",
        "attempt_count = 0\n",
        "\n",
        "\n",
        "print(\"Guess the number between 1 and 10. You have 3 attempts.\")\n",
        "\n",
        "while attempt_count < attempts:\n",
        "\n",
        "    user_guess = int(input(f\"Attempt {attempt_count + 1}: Your guess: \"))\n",
        "    attempt_count += 1\n",
        "\n",
        "\n",
        "    if user_guess < 1 or user_guess > 10:\n",
        "        print(\"Your guess is out of the valid range! Please guess a number between 1 and 10.\")\n",
        "        continue\n",
        "\n",
        "\n",
        "    if user_guess == random_number:\n",
        "        print(\"Congratulations! You guessed the right number.\")\n",
        "        break\n",
        "\n",
        "    elif user_guess > random_number:\n",
        "        print(\"Your guess is too high. Try again.\")\n",
        "    else:\n",
        "        print(\"Your guess is too low. Try again.\")\n",
        "\n",
        "\n",
        "else:\n",
        "    print(f\"Sorry, you've used all {attempts} attempts. The correct number was {random_number}. Better luck next time!\")\n",
        "\n"
      ],
      "metadata": {
        "id": "vO2GHY9TwY3I",
        "outputId": "7db19d87-6b70-48f8-87c6-f4ac4a34aaa1",
        "colab": {
          "base_uri": "https://localhost:8080/"
        }
      },
      "execution_count": null,
      "outputs": [
        {
          "output_type": "stream",
          "name": "stdout",
          "text": [
            "Guess the number between 1 and 10. You have 3 attempts.\n",
            "Attempt 1: Your guess: 6\n",
            "Your guess is too high. Try again.\n",
            "Attempt 2: Your guess: 4\n",
            "Your guess is too high. Try again.\n",
            "Attempt 3: Your guess: 8\n",
            "Your guess is too high. Try again.\n",
            "Sorry, you've used all 3 attempts. The correct number was 2. Better luck next time!\n"
          ]
        }
      ]
    }
  ],
  "metadata": {
    "colab": {
      "provenance": [],
      "include_colab_link": true
    },
    "kernelspec": {
      "display_name": "Python 3",
      "name": "python3"
    }
  },
  "nbformat": 4,
  "nbformat_minor": 0
}