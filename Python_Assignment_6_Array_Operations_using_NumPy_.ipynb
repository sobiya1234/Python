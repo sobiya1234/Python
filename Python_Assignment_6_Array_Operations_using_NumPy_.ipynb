{
  "cells": [
    {
      "cell_type": "markdown",
      "metadata": {
        "id": "view-in-github",
        "colab_type": "text"
      },
      "source": [
        "<a href=\"https://colab.research.google.com/github/sobiya1234/Python/blob/main/Python_Assignment_6_Array_Operations_using_NumPy_.ipynb\" target=\"_parent\"><img src=\"https://colab.research.google.com/assets/colab-badge.svg\" alt=\"Open In Colab\"/></a>"
      ]
    },
    {
      "cell_type": "markdown",
      "source": [
        "Numpy Operations:  "
      ],
      "metadata": {
        "id": "iGfNnMf_cORv"
      }
    },
    {
      "cell_type": "code",
      "source": [
        "\n",
        "import numpy as np\n"
      ],
      "metadata": {
        "id": "DKIFss-EwR1g"
      },
      "execution_count": null,
      "outputs": []
    },
    {
      "cell_type": "code",
      "source": [
        "# 1.\tCreate NumPy Arrays:\n",
        "temperatures_w1 = np.array([22.5, 25.3, 20.8, 23.4, 26.1, 24.8, 21.9])\n",
        "\n",
        "print(temperatures_w1)\n",
        "\n"
      ],
      "metadata": {
        "id": "2evk93BVchfY",
        "outputId": "4ff203ce-02e1-4874-e68f-7407cef8dd97",
        "colab": {
          "base_uri": "https://localhost:8080/"
        }
      },
      "execution_count": null,
      "outputs": [
        {
          "output_type": "stream",
          "name": "stdout",
          "text": [
            "[22.5 25.3 20.8 23.4 26.1 24.8 21.9]\n"
          ]
        }
      ]
    },
    {
      "cell_type": "markdown",
      "source": [
        "2.\t**Inspection and Properties:**"
      ],
      "metadata": {
        "id": "MhO7wNJ0fHfZ"
      }
    },
    {
      "cell_type": "code",
      "source": [
        "# Inspect the shape of the temperatures_w1 array.\n",
        "\n",
        "print(temperatures_w1.shape)"
      ],
      "metadata": {
        "id": "B5Yuf3JWd0p2",
        "outputId": "7b6be041-5350-42b7-9820-4c9c4cf44c0b",
        "colab": {
          "base_uri": "https://localhost:8080/"
        }
      },
      "execution_count": null,
      "outputs": [
        {
          "output_type": "stream",
          "name": "stdout",
          "text": [
            "(7,)\n"
          ]
        }
      ]
    },
    {
      "cell_type": "code",
      "source": [
        "#\tDetermine the data type of the temperatures_w1 array elements.\n",
        "\n",
        "print(temperatures_w1.dtype)"
      ],
      "metadata": {
        "id": "XDRkmCcxeatT",
        "outputId": "853f0db0-adce-4d26-bec6-0cf7579e47cc",
        "colab": {
          "base_uri": "https://localhost:8080/"
        }
      },
      "execution_count": null,
      "outputs": [
        {
          "output_type": "stream",
          "name": "stdout",
          "text": [
            "float64\n"
          ]
        }
      ]
    },
    {
      "cell_type": "code",
      "source": [
        "# Find out the number of elements in the temperatures_w1 array.\n",
        "\n",
        "print(temperatures_w1.size)"
      ],
      "metadata": {
        "id": "m87q21hNep6G",
        "outputId": "496b3791-6a52-487e-8859-fd0c5dbdc3f5",
        "colab": {
          "base_uri": "https://localhost:8080/"
        }
      },
      "execution_count": null,
      "outputs": [
        {
          "output_type": "stream",
          "name": "stdout",
          "text": [
            "7\n"
          ]
        }
      ]
    },
    {
      "cell_type": "markdown",
      "source": [
        "3.\t**Array Operations:**"
      ],
      "metadata": {
        "id": "kB-vaDhAfCHb"
      }
    },
    {
      "cell_type": "code",
      "source": [
        "# Convert the temperatures_w1 from Celsius to Fahrenheit.\n",
        "\n",
        "temperatures_fahrenheit = (temperatures_w1 * 9/5) + 32\n",
        "\n",
        "print(temperatures_fahrenheit)\n"
      ],
      "metadata": {
        "id": "yUB6LvFHe-2p",
        "outputId": "08a2c2bb-a916-4401-ea74-39a30fb5b54e",
        "colab": {
          "base_uri": "https://localhost:8080/"
        }
      },
      "execution_count": null,
      "outputs": [
        {
          "output_type": "stream",
          "name": "stdout",
          "text": [
            "[72.5  77.54 69.44 74.12 78.98 76.64 71.42]\n"
          ]
        }
      ]
    },
    {
      "cell_type": "code",
      "source": [
        "#\tFind the maximum and minimum and average temperatures of the week.\n",
        "\n",
        "max_temperature = temperatures_w1.max()\n",
        "\n",
        "min_temperature = temperatures_w1.min()\n",
        "\n",
        "print(\"Maximum temperature:\", max_temperature)\n",
        "print(\"Minimum temperature:\", min_temperature)\n"
      ],
      "metadata": {
        "id": "mN707mrVfsYy",
        "outputId": "98e386a0-ca11-4cc5-d8eb-70681d37285b",
        "colab": {
          "base_uri": "https://localhost:8080/"
        }
      },
      "execution_count": null,
      "outputs": [
        {
          "output_type": "stream",
          "name": "stdout",
          "text": [
            "Maximum temperature: 26.1\n",
            "Minimum temperature: 20.8\n"
          ]
        }
      ]
    },
    {
      "cell_type": "code",
      "source": [
        "temperatures_w1=np.array([22.5, 25.3, 20.8, 23.4, 26.1, 24.8, 21.9])\n",
        "\n",
        "print(\"Mean temperatures:\",np.mean(temperatures_w1))"
      ],
      "metadata": {
        "colab": {
          "base_uri": "https://localhost:8080/"
        },
        "id": "Bgpo_woTxS69",
        "outputId": "fadbfb11-e1c2-4bf5-ea82-ff2fe2f1a7f8"
      },
      "execution_count": null,
      "outputs": [
        {
          "output_type": "stream",
          "name": "stdout",
          "text": [
            "Mean temperatures: 23.542857142857144\n"
          ]
        }
      ]
    },
    {
      "cell_type": "markdown",
      "source": [
        "4.Array Slicing and Indexing:"
      ],
      "metadata": {
        "id": "bLeiYWvHq1BD"
      }
    },
    {
      "cell_type": "code",
      "source": [
        "#\tExtract the temperatures for the first three days of the week.\n",
        "temperaturess_w1=np.array([22.5, 25.3, 20.8, 23.4, 26.1, 24.8, 21.9])\n",
        "\n",
        "print(\"First three days:\", temperatures_w1[:3])"
      ],
      "metadata": {
        "colab": {
          "base_uri": "https://localhost:8080/"
        },
        "id": "JX15QP6wqqao",
        "outputId": "a9114cfe-21f6-4e25-cc37-129d52a78ea4"
      },
      "execution_count": null,
      "outputs": [
        {
          "output_type": "stream",
          "name": "stdout",
          "text": [
            "First three days: [22.5 25.3 20.8]\n"
          ]
        }
      ]
    },
    {
      "cell_type": "code",
      "source": [
        "#\tExtract the temperatures for the weekend.\n",
        "temperaturess_w1=np.array([22.5, 25.3, 20.8, 23.4, 26.1, 24.8, 21.9])\n",
        "\n",
        "print(\"Last two days:\", temperatures_w1[-2:])"
      ],
      "metadata": {
        "colab": {
          "base_uri": "https://localhost:8080/"
        },
        "id": "pIjd1YaEyNHD",
        "outputId": "1567ef65-a2c0-4f65-d4aa-0d96fe018a18"
      },
      "execution_count": null,
      "outputs": [
        {
          "output_type": "stream",
          "name": "stdout",
          "text": [
            "Last two days: [24.8 21.9]\n"
          ]
        }
      ]
    },
    {
      "cell_type": "code",
      "source": [
        "# Extract the temperatures for the middle three days of the week.\n",
        "temperaturess_w1=np.array([22.5, 25.3, 20.8, 23.4, 26.1, 24.8, 21.9])\n",
        "\n",
        "print(\"Middel three days:\", temperatures_w1[2:5:])"
      ],
      "metadata": {
        "colab": {
          "base_uri": "https://localhost:8080/"
        },
        "id": "oC_5RbPDyqfM",
        "outputId": "086d8258-5dda-477d-815b-5091edc181ef"
      },
      "execution_count": null,
      "outputs": [
        {
          "output_type": "stream",
          "name": "stdout",
          "text": [
            "Middel three days: [20.8 23.4 26.1]\n"
          ]
        }
      ]
    },
    {
      "cell_type": "markdown",
      "source": [
        "5.\tCreate a 2D Array:"
      ],
      "metadata": {
        "id": "RxoKosQ9zRdj"
      }
    },
    {
      "cell_type": "code",
      "source": [
        "#Create a 2D NumPy array named temperatures where each row represents temperatures for a different week:\n",
        "week1 = [22.5, 25.3, 20.8, 23.4, 26.1, 24.8, 21.9]\n",
        "week2 =[19.2, 22.5, 21.3, 24.0, 23.5, 22.8, 20.1]\n",
        "temperature = np.array([week1,week2])\n",
        "print(\"temperature:\\n\",temperature)"
      ],
      "metadata": {
        "colab": {
          "base_uri": "https://localhost:8080/"
        },
        "id": "5a8QU5DdzWH8",
        "outputId": "353167aa-df18-4fe7-f278-9f0a99827413"
      },
      "execution_count": null,
      "outputs": [
        {
          "output_type": "stream",
          "name": "stdout",
          "text": [
            "temperature:\n",
            " [[22.5 25.3 20.8 23.4 26.1 24.8 21.9]\n",
            " [19.2 22.5 21.3 24.  23.5 22.8 20.1]]\n"
          ]
        }
      ]
    },
    {
      "cell_type": "markdown",
      "source": [
        "6.\tInspect and Slice the 2D Array:"
      ],
      "metadata": {
        "id": "6BmIsU3E1FJb"
      }
    },
    {
      "cell_type": "code",
      "source": [
        "# Inspect and print the shape, data type, and total number of elements in the temperatures array.\n",
        "week1 = [22.5, 25.3, 20.8, 23.4, 26.1, 24.8, 21.9]\n",
        "week2 =[19.2, 22.5, 21.3, 24.0, 23.5, 22.8, 20.1]\n",
        "\n",
        "temperatures=np.array([week1,week2])\n",
        "print(\"Temperatures of shape:\", temperatures.shape)\n",
        "print(\"Temperatures of datatypes:\", temperatures.dtype)\n",
        "print(\"Temperatures of Size:\", temperatures.size)"
      ],
      "metadata": {
        "colab": {
          "base_uri": "https://localhost:8080/"
        },
        "id": "TdaMb7e11OSW",
        "outputId": "29e4ed8b-0c81-4dff-ae21-1d58b58820cc"
      },
      "execution_count": null,
      "outputs": [
        {
          "output_type": "stream",
          "name": "stdout",
          "text": [
            "Temperatures of shape: (2, 7)\n",
            "Temperatures of datatypes: float64\n",
            "Temperatures of Size: 14\n"
          ]
        }
      ]
    },
    {
      "cell_type": "code",
      "source": [
        "#\tThe temperatures for the first week (Row 1).\n",
        "\n",
        "temperatures=np.array([[22.5, 25.3, 20.8, 23.4, 26.1, 24.8, 21.9],\n",
        "                     [19.2, 22.5, 21.3, 24.0, 23.5, 22.8, 20.1]])\n",
        "week1=temperatures[0]\n",
        "\n",
        "print(\"temperatures of first week:\",week1)\n"
      ],
      "metadata": {
        "colab": {
          "base_uri": "https://localhost:8080/"
        },
        "id": "i98UBrLb2HcU",
        "outputId": "50d0d33c-d0ea-4d01-c63a-7a2f530143aa"
      },
      "execution_count": null,
      "outputs": [
        {
          "output_type": "stream",
          "name": "stdout",
          "text": [
            "temperatures of first week: [22.5 25.3 20.8 23.4 26.1 24.8 21.9]\n"
          ]
        }
      ]
    },
    {
      "cell_type": "code",
      "source": [
        "#\tThe temperatures for the second week (Row 2).\n",
        "temperatures=np.array([[22.5, 25.3, 20.8, 23.4, 26.1, 24.8, 21.9],\n",
        "                     [19.2, 22.5, 21.3, 24.0, 23.5, 22.8, 20.1]])\n",
        "week2=temperatures[1]\n",
        "\n",
        "print(\"temperatures of second week:\",week2)\n",
        "\n"
      ],
      "metadata": {
        "colab": {
          "base_uri": "https://localhost:8080/"
        },
        "id": "y5tUfyEa5Lo3",
        "outputId": "8584ef0b-c519-453f-8826-2316756484ea"
      },
      "execution_count": null,
      "outputs": [
        {
          "output_type": "stream",
          "name": "stdout",
          "text": [
            "temperatures of second week: [19.2 22.5 21.3 24.  23.5 22.8 20.1]\n"
          ]
        }
      ]
    },
    {
      "cell_type": "code",
      "source": [
        "#\tThe temperatures for the first three days of each week.\n",
        "temperatures = np.array([\n",
        "    [22.5, 25.3, 20.8, 23.4, 26.1, 24.8, 21.9],\n",
        "    [19.2, 22.5, 21.3, 24.0, 23.5, 22.8, 20.1]])\n",
        "\n",
        "first_three_days_each_week = temperatures[:,:3]\n",
        "print(\"first three days of week:\\n\",first_three_days_each_week)"
      ],
      "metadata": {
        "colab": {
          "base_uri": "https://localhost:8080/"
        },
        "id": "4fZQ0fkX5dIj",
        "outputId": "9d997d34-46c8-47be-dbc6-ee5a9ca7cc27"
      },
      "execution_count": null,
      "outputs": [
        {
          "output_type": "stream",
          "name": "stdout",
          "text": [
            "first three days of week:\n",
            " [[22.5 25.3 20.8]\n",
            " [19.2 22.5 21.3]]\n"
          ]
        }
      ]
    },
    {
      "cell_type": "code",
      "source": [
        "#\tThe temperatures for the weekends (last two days) of both weeks.\n",
        "temperatures = np.array([\n",
        "    [22.5, 25.3, 20.8, 23.4, 26.1, 24.8, 21.9],\n",
        "    [19.2, 22.5, 21.3, 24.0, 23.5, 22.8, 20.1]])\n",
        "\n",
        "weekend_temperatures = temperatures[:, -2:]\n",
        "print(\"Weekend temperatures of last two days:\\n\", weekend_temperatures)"
      ],
      "metadata": {
        "colab": {
          "base_uri": "https://localhost:8080/"
        },
        "id": "q2AylZZq8ZTc",
        "outputId": "49a252d8-5a27-4918-eb18-ab6b456410fb"
      },
      "execution_count": null,
      "outputs": [
        {
          "output_type": "stream",
          "name": "stdout",
          "text": [
            "Weekend temperatures of last two days:\n",
            " [[24.8 21.9]\n",
            " [22.8 20.1]]\n"
          ]
        }
      ]
    }
  ],
  "metadata": {
    "colab": {
      "provenance": [],
      "include_colab_link": true
    },
    "kernelspec": {
      "display_name": "Python 3",
      "name": "python3"
    }
  },
  "nbformat": 4,
  "nbformat_minor": 0
}