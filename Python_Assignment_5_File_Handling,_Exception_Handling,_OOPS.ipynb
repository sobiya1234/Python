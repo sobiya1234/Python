{
  "cells": [
    {
      "cell_type": "markdown",
      "metadata": {
        "id": "view-in-github",
        "colab_type": "text"
      },
      "source": [
        "<a href=\"https://colab.research.google.com/github/sobiya1234/Python/blob/main/Python_Assignment_5_File_Handling%2C_Exception_Handling%2C_OOPS.ipynb\" target=\"_parent\"><img src=\"https://colab.research.google.com/assets/colab-badge.svg\" alt=\"Open In Colab\"/></a>"
      ]
    },
    {
      "cell_type": "markdown",
      "source": [
        "# File Handling:"
      ],
      "metadata": {
        "id": "qeWO5OAZ8GBt"
      }
    },
    {
      "cell_type": "markdown",
      "source": [
        "WRITE\n",
        "\n",
        "\n"
      ],
      "metadata": {
        "id": "QnFGcV8ljdJw"
      }
    },
    {
      "cell_type": "code",
      "execution_count": null,
      "metadata": {
        "colab": {
          "base_uri": "https://localhost:8080/"
        },
        "id": "lIYdn1woOS1n",
        "outputId": "15d2b309-9565-43fc-e272-a6d8f391fa04"
      },
      "outputs": [
        {
          "output_type": "stream",
          "name": "stdout",
          "text": [
            "Enter your name: sobiya\n",
            "Enter your age: 25\n",
            "Enter your favorite color: black\n",
            "Your information has been saved to 'user_info.txt'.\n"
          ]
        }
      ],
      "source": [
        "\n",
        "name = input(\"Enter your name: \")\n",
        "age = input(\"Enter your age: \")\n",
        "favourite_color = input(\"Enter your favorite color: \")\n",
        "\n",
        "with open(\"user_info.txt\", \"w\") as file:\n",
        "    file.write(f\"Name: {name}\\n\")\n",
        "    file.write(f\"Age: {age}\\n\")\n",
        "    file.write(f\"Favourite Color: {favourite_color}\\n\")\n",
        "\n",
        "print(\"Your information has been saved to 'user_info.txt'.\")"
      ]
    },
    {
      "cell_type": "markdown",
      "source": [
        "READ\n"
      ],
      "metadata": {
        "id": "rAdO_HKxtmNY"
      }
    },
    {
      "cell_type": "code",
      "source": [
        "with open(\"user_info.txt\", \"r\") as file:\n",
        "  content=file.read()\n",
        "  print(content)\n"
      ],
      "metadata": {
        "colab": {
          "base_uri": "https://localhost:8080/"
        },
        "id": "_Erqqm6dtoCF",
        "outputId": "bf7a6188-e833-40d3-a8d0-0587ceb1dde7"
      },
      "execution_count": null,
      "outputs": [
        {
          "output_type": "stream",
          "name": "stdout",
          "text": [
            "Name: sobiya\n",
            "Age: 25\n",
            "Favourite Color: black\n",
            "\n"
          ]
        }
      ]
    },
    {
      "cell_type": "markdown",
      "source": [
        "APPEND"
      ],
      "metadata": {
        "id": "XfxjptY9udlO"
      }
    },
    {
      "cell_type": "code",
      "source": [
        "fav_movie=input(\"Enter your favourite movie:\")\n",
        "with open(\"user_info.txt\", \"a\") as file:\n",
        "  file.write(f\"favourite movie: {fav_movie}\\n\")"
      ],
      "metadata": {
        "colab": {
          "base_uri": "https://localhost:8080/"
        },
        "id": "g0QB_6M9uf2R",
        "outputId": "af70e35d-4385-436d-8d80-4d23d760fb0b"
      },
      "execution_count": null,
      "outputs": [
        {
          "name": "stdout",
          "output_type": "stream",
          "text": [
            "Enter your favourite movie:dragon\n"
          ]
        }
      ]
    },
    {
      "cell_type": "markdown",
      "source": [
        "READLINES"
      ],
      "metadata": {
        "id": "hrjOQDQzzHTE"
      }
    },
    {
      "cell_type": "code",
      "source": [
        "with open(\"user_info.txt\", \"r\") as file:\n",
        "    lines = file.readlines()\n",
        "\n",
        "    for line in lines:\n",
        "        print(line.strip())"
      ],
      "metadata": {
        "colab": {
          "base_uri": "https://localhost:8080/"
        },
        "id": "NRS6oQJey_il",
        "outputId": "25c61a8c-0f21-49d9-b5a4-a4a465ad2ed8"
      },
      "execution_count": null,
      "outputs": [
        {
          "output_type": "stream",
          "name": "stdout",
          "text": [
            "Name: sobiya\n",
            "Age: 25\n",
            "Favourite Color: black\n",
            "favourite movie: dragon\n"
          ]
        }
      ]
    },
    {
      "cell_type": "markdown",
      "source": [
        "#  Exception Handling:  "
      ],
      "metadata": {
        "id": "w5le9r_PxH8K"
      }
    },
    {
      "cell_type": "markdown",
      "source": [
        "1.\tPrompts the user to enter a temperature in Celsius"
      ],
      "metadata": {
        "id": "0iia25GPxe0p"
      }
    },
    {
      "cell_type": "code",
      "source": [
        "\n",
        "try:\n",
        "\n",
        "    celsius = input(\"Enter the temperature in Celsius: \")\n",
        "\n",
        "\n",
        "    celsius = float(celsius)\n",
        "\n",
        "\n",
        "    fahrenheit = (celsius * 9/5) + 32\n",
        "\n",
        "\n",
        "    print(f\"The temperature in Fahrenheit is: {fahrenheit:.2f}\")\n",
        "\n",
        "except ValueError:\n",
        "\n",
        "    print(\"Error: Please enter a valid numeric value for the temperature.\")\n"
      ],
      "metadata": {
        "colab": {
          "base_uri": "https://localhost:8080/"
        },
        "id": "01iOEamoyJzt",
        "outputId": "364dbdc2-b22b-4be9-b806-f5b1a9ae0efa"
      },
      "execution_count": null,
      "outputs": [
        {
          "output_type": "stream",
          "name": "stdout",
          "text": [
            "Enter the temperature in Celsius: -20\n",
            "The temperature in Fahrenheit is: -4.00\n"
          ]
        }
      ]
    },
    {
      "cell_type": "markdown",
      "source": [
        "# 1.Prompting for User Input:"
      ],
      "metadata": {
        "id": "cND7D2ew18e9"
      }
    },
    {
      "cell_type": "code",
      "source": [
        "\n",
        "celsius = input(\"Enter the temperature in Celsius: \")\n",
        "\n",
        "celsius = float(celsius)\n",
        "\n",
        "print(f\"You entered {celsius} degrees Celsius.\")"
      ],
      "metadata": {
        "colab": {
          "base_uri": "https://localhost:8080/"
        },
        "id": "5fvMsLpG1fuQ",
        "outputId": "63d82c7f-0463-41d6-cfc6-53a26017a2fc"
      },
      "execution_count": null,
      "outputs": [
        {
          "output_type": "stream",
          "name": "stdout",
          "text": [
            "Enter the temperature in Celsius: 28\n",
            "You entered 28.0 degrees Celsius.\n"
          ]
        }
      ]
    },
    {
      "cell_type": "markdown",
      "source": [
        "# 2) Converting Celsius to Fahrenheit:"
      ],
      "metadata": {
        "id": "K_6PKxK42DLL"
      }
    },
    {
      "cell_type": "code",
      "source": [
        "\n",
        "celsius = input(\"Enter the temperature in Celsius: \")\n",
        "\n",
        "\n",
        "celsius = float(celsius)\n",
        "\n",
        "\n",
        "fahrenheit = (celsius * 9/5) + 32\n",
        "\n",
        "\n",
        "print(f\"The temperature in Fahrenheit is: {fahrenheit:.2f}\")"
      ],
      "metadata": {
        "colab": {
          "base_uri": "https://localhost:8080/"
        },
        "id": "r1cIc-lc2HIF",
        "outputId": "e12a3d65-828b-4008-8f9e-6b3b684b5b64"
      },
      "execution_count": null,
      "outputs": [
        {
          "output_type": "stream",
          "name": "stdout",
          "text": [
            "Enter the temperature in Celsius: 32\n",
            "The temperature in Fahrenheit is: 89.60\n"
          ]
        }
      ]
    },
    {
      "cell_type": "markdown",
      "source": [
        "\n",
        "# 3.Handling Exceptions:"
      ],
      "metadata": {
        "id": "JlF6rGUZ3ZiG"
      }
    },
    {
      "cell_type": "code",
      "source": [
        "try:\n",
        "\n",
        "    celsius = input(\"Enter the temperature in Celsius: \")\n",
        "\n",
        "\n",
        "    celsius = float(celsius)\n",
        "\n",
        "except ValueError:\n",
        "\n",
        "    print(\"Error: Please enter a valid numeric value for the temperature.\")\n",
        "\n",
        "else:\n",
        "\n",
        "    fahrenheit = (celsius * 9/5) + 32\n",
        "    print(f\"The temperature in Fahrenheit is: {fahrenheit:.2f}\")\n",
        "\n",
        "finally:\n",
        "\n",
        "    print(\"Program execution has ended, thank you!\")\n"
      ],
      "metadata": {
        "colab": {
          "base_uri": "https://localhost:8080/"
        },
        "id": "LpkkihfP3CE2",
        "outputId": "b17a26bf-86b0-480c-8507-9be3e7674356"
      },
      "execution_count": null,
      "outputs": [
        {
          "output_type": "stream",
          "name": "stdout",
          "text": [
            "Enter the temperature in Celsius: 32\n",
            "The temperature in Fahrenheit is: 89.60\n",
            "Program execution has ended, thank you!\n"
          ]
        }
      ]
    },
    {
      "cell_type": "code",
      "source": [
        "try:\n",
        "\n",
        "    celsius = input(\"Enter the temperature in Celsius: \")\n",
        "\n",
        "    celsius = float(celsius)\n",
        "\n",
        "#zero division error:\n",
        "except ZeroDivisionError:\n",
        "\n",
        "    print(\"Error: Division by zero is not allowed.\")\n",
        "\n",
        "# type error\n",
        "except TypeError:\n",
        "\n",
        "    print(\"Error: Arithmetic operations cannot be performed on incompatible types.\")\n",
        "\n",
        "# value error\n",
        "except ValueError:\n",
        "\n",
        "    print(\"Error: Please enter valid numeric values for the celsius and fahrenheit.\")\n",
        "\n",
        "#\tGeneric Exception:\n",
        "except Exception as e:\n",
        "\n",
        "    print(f\"An unexpected error occurred: {e}\")\n",
        "\n",
        "# 4) Output Result:\n",
        "finally:\n",
        "\n",
        "    print(\" program completed! Thank you for using the program.\")"
      ],
      "metadata": {
        "colab": {
          "base_uri": "https://localhost:8080/"
        },
        "id": "V-Ylpn7m36uH",
        "outputId": "ed288239-92ab-4a5f-9b1a-f9ee59a8d07a"
      },
      "execution_count": null,
      "outputs": [
        {
          "output_type": "stream",
          "name": "stdout",
          "text": [
            "Enter the temperature in Celsius: 32\n",
            " program completed! Thank you for using the program.\n"
          ]
        }
      ]
    },
    {
      "cell_type": "markdown",
      "source": [
        "# **oops**"
      ],
      "metadata": {
        "id": "YRcpZjYutKN0"
      }
    },
    {
      "cell_type": "code",
      "source": [
        "class Library:\n",
        "#\tAttributes:\n",
        "    def __init__(self, book_title, year_published):\n",
        "        self.book_title = book_title\n",
        "        self.year_published = year_published\n",
        "\n",
        "# Methods:\n",
        "book1 = Library(\"The secret\", 1950)\n",
        "book2 = Library(\" The Twilight saga\", 1900)\n",
        "\n",
        "print(f\"Book 1: {book1.book_title}, Published in {book1.year_published}\")\n",
        "print(f\"Book 2: {book2.book_title}, Published in {book2.year_published}\")"
      ],
      "metadata": {
        "colab": {
          "base_uri": "https://localhost:8080/"
        },
        "id": "HxE5NjG2tNiq",
        "outputId": "07c5bc17-530f-4d54-b133-38e8f4f40b06"
      },
      "execution_count": null,
      "outputs": [
        {
          "output_type": "stream",
          "name": "stdout",
          "text": [
            "Book 1: The secret, Published in 1950\n",
            "Book 2:  The Twilight saga, Published in 1900\n"
          ]
        }
      ]
    },
    {
      "cell_type": "markdown",
      "source": [
        "2)\tCreate Objects and Use Methods:"
      ],
      "metadata": {
        "id": "XONb-uCS7mEd"
      }
    },
    {
      "cell_type": "code",
      "source": [
        "\n",
        "class Library:\n",
        "\n",
        "    def __init__(self, book_title, year_published):\n",
        "        self.book_title = book_title\n",
        "        self.year_published = year_published\n",
        "\n",
        "    def display_info(self):\n",
        "        print(f\"Book Title: {self.book_title}\")\n",
        "        print(f\"Year Published: {self.year_published}\")\n",
        "\n",
        "book1 = Library(\"The secret\", 1950)\n",
        "book2 = Library(\"The Twilight saga\", 1900)\n",
        "\n",
        "\n",
        "print(\"Book 1 Information:\")\n",
        "book1.display_info()\n",
        "\n",
        "print(\"\\nBook 2 Information:\")\n",
        "book2.display_info()"
      ],
      "metadata": {
        "colab": {
          "base_uri": "https://localhost:8080/"
        },
        "id": "jQHbZy9j39Hk",
        "outputId": "768be96f-d78c-41b6-e49f-adebfc8054e0"
      },
      "execution_count": null,
      "outputs": [
        {
          "output_type": "stream",
          "name": "stdout",
          "text": [
            "Book 1 Information:\n",
            "Book Title: The secret\n",
            "Year Published: 1950\n",
            "\n",
            "Book 2 Information:\n",
            "Book Title: The Twilight saga\n",
            "Year Published: 1900\n"
          ]
        }
      ]
    }
  ],
  "metadata": {
    "colab": {
      "provenance": [],
      "include_colab_link": true
    },
    "kernelspec": {
      "display_name": "Python 3",
      "name": "python3"
    }
  },
  "nbformat": 4,
  "nbformat_minor": 0
}