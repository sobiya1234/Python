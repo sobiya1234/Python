{
  "cells": [
    {
      "cell_type": "markdown",
      "metadata": {
        "id": "view-in-github",
        "colab_type": "text"
      },
      "source": [
        "<a href=\"https://colab.research.google.com/github/sobiya1234/Python/blob/main/Python_Assignment_2_Data_Structures_List%2C_Dictionary%2C_Set%2C_Frozenset.ipynb\" target=\"_parent\"><img src=\"https://colab.research.google.com/assets/colab-badge.svg\" alt=\"Open In Colab\"/></a>"
      ]
    },
    {
      "cell_type": "markdown",
      "metadata": {
        "id": "EAss8Ef-uMnm"
      },
      "source": []
    },
    {
      "cell_type": "markdown",
      "metadata": {
        "id": "EEqEcWCTuVDD"
      },
      "source": [
        "1.List Creation:"
      ]
    },
    {
      "cell_type": "markdown",
      "metadata": {
        "id": "uRgahOuOunox"
      },
      "source": [
        "a.Create a list named age_list with five integer elements. For eg., [24, 25, 26, 27, 28]"
      ]
    },
    {
      "cell_type": "code",
      "execution_count": null,
      "metadata": {
        "colab": {
          "base_uri": "https://localhost:8080/"
        },
        "id": "KPDHBPWMubrr",
        "outputId": "3a33460e-59be-45a6-e1e3-bb03bf20539f"
      },
      "outputs": [
        {
          "data": {
            "text/plain": [
              "[19, 20, 21, 22, 23]"
            ]
          },
          "execution_count": 1,
          "metadata": {},
          "output_type": "execute_result"
        }
      ],
      "source": [
        "age_list=[19,20,21,22,23]\n",
        "age_list"
      ]
    },
    {
      "cell_type": "markdown",
      "metadata": {
        "id": "VT0TSngcu1NM"
      },
      "source": [
        "b.Create a list named name_list with five string elements."
      ]
    },
    {
      "cell_type": "code",
      "execution_count": null,
      "metadata": {
        "colab": {
          "base_uri": "https://localhost:8080/"
        },
        "id": "Ntjy7UrEu2i9",
        "outputId": "c1797928-aaca-4e77-8d19-6ac90d6f9b7e"
      },
      "outputs": [
        {
          "data": {
            "text/plain": [
              "['manoj', 'priya', 'charu', 'mani', 'saranya']"
            ]
          },
          "execution_count": 2,
          "metadata": {},
          "output_type": "execute_result"
        }
      ],
      "source": [
        "name_list=[\"manoj\",\"priya\",\"charu\",\"mani\",\"saranya\"]\n",
        "name_list"
      ]
    },
    {
      "cell_type": "markdown",
      "metadata": {
        "id": "tKFOKdppvP85"
      },
      "source": [
        "2.List Operations / Modifications:"
      ]
    },
    {
      "cell_type": "markdown",
      "metadata": {
        "id": "MDPgM1QNvpgB"
      },
      "source": [
        "a.Append the string \"saranya\" to name_list"
      ]
    },
    {
      "cell_type": "code",
      "execution_count": null,
      "metadata": {
        "colab": {
          "base_uri": "https://localhost:8080/",
          "height": 110
        },
        "id": "Bd05ghNfvuFx",
        "outputId": "14d17440-a432-4656-c814-7160cb8ab3b8"
      },
      "outputs": [
        {
          "ename": "SyntaxError",
          "evalue": "invalid syntax (<ipython-input-4-6d247a775765>, line 1)",
          "output_type": "error",
          "traceback": [
            "\u001b[0;36m  File \u001b[0;32m\"<ipython-input-4-6d247a775765>\"\u001b[0;36m, line \u001b[0;32m1\u001b[0m\n\u001b[0;31m    name_list.append(\"saranya\") ji\u001b[0m\n\u001b[0m                                ^\u001b[0m\n\u001b[0;31mSyntaxError\u001b[0m\u001b[0;31m:\u001b[0m invalid syntax\n"
          ]
        }
      ],
      "source": [
        "name_list.append(\"saranya\") ji\n",
        "name_list"
      ]
    },
    {
      "cell_type": "markdown",
      "metadata": {
        "id": "pQJDLG40wKAo"
      },
      "source": [
        "b.Insert the element 30 at index 2 in age_list."
      ]
    },
    {
      "cell_type": "code",
      "execution_count": null,
      "metadata": {
        "colab": {
          "base_uri": "https://localhost:8080/"
        },
        "id": "19cx0XX9wK_B",
        "outputId": "38f69cfb-f13c-4848-a7b0-b60b1046a3a2"
      },
      "outputs": [
        {
          "data": {
            "text/plain": [
              "[19, 20, 30, 21, 22, 23]"
            ]
          },
          "execution_count": 5,
          "metadata": {},
          "output_type": "execute_result"
        }
      ],
      "source": [
        "age_list.insert(2,30)\n",
        "age_list"
      ]
    },
    {
      "cell_type": "markdown",
      "metadata": {
        "id": "a4usb8BawRpN"
      },
      "source": [
        "c.Remove the string \"saranya\" from name_list."
      ]
    },
    {
      "cell_type": "code",
      "execution_count": null,
      "metadata": {
        "colab": {
          "base_uri": "https://localhost:8080/"
        },
        "id": "OOilFLIzwVfJ",
        "outputId": "250e1a10-4cd9-47d5-c93e-2972991b92bd"
      },
      "outputs": [
        {
          "data": {
            "text/plain": [
              "['manoj', 'priya', 'charu', 'mani']"
            ]
          },
          "execution_count": 6,
          "metadata": {},
          "output_type": "execute_result"
        }
      ],
      "source": [
        "name_list.remove(\"saranya\")\n",
        "name_list"
      ]
    },
    {
      "cell_type": "markdown",
      "metadata": {
        "id": "VS_o7ouUwdy_"
      },
      "source": [
        "d.Pop the last element from age_list."
      ]
    },
    {
      "cell_type": "code",
      "execution_count": null,
      "metadata": {
        "colab": {
          "base_uri": "https://localhost:8080/"
        },
        "id": "BmkeLx4gwepA",
        "outputId": "de276e1e-ecf1-4f16-eb17-cd18ed3d0ef3"
      },
      "outputs": [
        {
          "data": {
            "text/plain": [
              "[19, 20, 30, 21, 22]"
            ]
          },
          "execution_count": 7,
          "metadata": {},
          "output_type": "execute_result"
        }
      ],
      "source": [
        "age_list.pop()\n",
        "age_list"
      ]
    },
    {
      "cell_type": "markdown",
      "metadata": {
        "id": "ZVuf4jC5wj0J"
      },
      "source": [
        "e.Extend the age_list with additional ages [29, 30, 26]."
      ]
    },
    {
      "cell_type": "code",
      "execution_count": null,
      "metadata": {
        "colab": {
          "base_uri": "https://localhost:8080/"
        },
        "id": "YHAfediowk4l",
        "outputId": "88c3aabb-49c7-487b-94e4-c7e0f7c7afd5"
      },
      "outputs": [
        {
          "data": {
            "text/plain": [
              "[19, 20, 30, 21, 22, 29, 30, 26]"
            ]
          },
          "execution_count": 8,
          "metadata": {},
          "output_type": "execute_result"
        }
      ],
      "source": [
        "age_list.extend([29,30,26])\n",
        "age_list"
      ]
    },
    {
      "cell_type": "markdown",
      "metadata": {
        "id": "l3_qZ8oWwpvX"
      },
      "source": [
        "f.Sort age_list in descending order."
      ]
    },
    {
      "cell_type": "code",
      "execution_count": null,
      "metadata": {
        "colab": {
          "base_uri": "https://localhost:8080/"
        },
        "id": "z2L1PM7gwq1p",
        "outputId": "cb7bf8dd-499a-4167-9283-e65f90c903e1"
      },
      "outputs": [
        {
          "data": {
            "text/plain": [
              "[30, 30, 29, 26, 22, 21, 20, 19]"
            ]
          },
          "execution_count": 9,
          "metadata": {},
          "output_type": "execute_result"
        }
      ],
      "source": [
        "age_list.sort(reverse=True)\n",
        "age_list"
      ]
    },
    {
      "cell_type": "markdown",
      "metadata": {
        "id": "8DNtuKMHww5R"
      },
      "source": [
        "g.Find Max age, Min age and sum of all ages from age_list.\n",
        "\n",
        "\n"
      ]
    },
    {
      "cell_type": "code",
      "execution_count": null,
      "metadata": {
        "colab": {
          "base_uri": "https://localhost:8080/"
        },
        "id": "8wgdNFEPwyVR",
        "outputId": "e153587f-ceb9-466c-d4d0-b0bf59fc60e7"
      },
      "outputs": [
        {
          "name": "stdout",
          "output_type": "stream",
          "text": [
            "30\n",
            "19\n",
            "197\n"
          ]
        }
      ],
      "source": [
        "max_age=max(age_list)\n",
        "min_age=min(age_list)\n",
        "sum_ages=sum(age_list)\n",
        "print(max(age_list))\n",
        "print(min(age_list))\n",
        "print(sum(age_list))"
      ]
    },
    {
      "cell_type": "markdown",
      "metadata": {
        "id": "kp7BndJzxKKY"
      },
      "source": [
        "h.Make a copy of age_list and store as age_list_copy"
      ]
    },
    {
      "cell_type": "code",
      "execution_count": null,
      "metadata": {
        "colab": {
          "base_uri": "https://localhost:8080/"
        },
        "id": "hs-do8-txLZ_",
        "outputId": "734d3628-5e34-491b-bd41-627c5d7466f3"
      },
      "outputs": [
        {
          "data": {
            "text/plain": [
              "[30, 30, 29, 26, 22, 21, 20, 19]"
            ]
          },
          "execution_count": 11,
          "metadata": {},
          "output_type": "execute_result"
        }
      ],
      "source": [
        "age_list_copy=age_list.copy()\n",
        "age_list_copy\n"
      ]
    },
    {
      "cell_type": "markdown",
      "metadata": {
        "id": "7le8opvBxU44"
      },
      "source": [
        "i.Clear all elements from age_list_copy."
      ]
    },
    {
      "cell_type": "code",
      "execution_count": null,
      "metadata": {
        "colab": {
          "base_uri": "https://localhost:8080/"
        },
        "id": "3vzgk90DxV0R",
        "outputId": "16da9197-da5e-4fce-9a7c-faf37003f8d0"
      },
      "outputs": [
        {
          "data": {
            "text/plain": [
              "[]"
            ]
          },
          "execution_count": 12,
          "metadata": {},
          "output_type": "execute_result"
        }
      ],
      "source": [
        "age_list_copy.clear()\n",
        "age_list_copy"
      ]
    },
    {
      "cell_type": "markdown",
      "metadata": {
        "id": "g7AoY4T6xb0B"
      },
      "source": [
        "3. Accessing List Elements:"
      ]
    },
    {
      "cell_type": "markdown",
      "metadata": {
        "id": "ZDWlKPFMxfxP"
      },
      "source": [
        "a.Print the first element of name_list."
      ]
    },
    {
      "cell_type": "code",
      "execution_count": null,
      "metadata": {
        "colab": {
          "base_uri": "https://localhost:8080/",
          "height": 36
        },
        "id": "ByzavlCyxggz",
        "outputId": "88a1d1ec-5186-4f23-d170-ba62f2cd76a8"
      },
      "outputs": [
        {
          "data": {
            "application/vnd.google.colaboratory.intrinsic+json": {
              "type": "string"
            },
            "text/plain": [
              "'manoj'"
            ]
          },
          "execution_count": 13,
          "metadata": {},
          "output_type": "execute_result"
        }
      ],
      "source": [
        "name_list[0]"
      ]
    },
    {
      "cell_type": "markdown",
      "metadata": {
        "id": "j-zUFPdtxxvw"
      },
      "source": [
        "b.Print the last element of name_list."
      ]
    },
    {
      "cell_type": "code",
      "execution_count": null,
      "metadata": {
        "colab": {
          "base_uri": "https://localhost:8080/",
          "height": 36
        },
        "id": "g_3j5OpCxy9A",
        "outputId": "c7d17df4-7298-4b5e-c6a1-76b7d0542bcf"
      },
      "outputs": [
        {
          "data": {
            "application/vnd.google.colaboratory.intrinsic+json": {
              "type": "string"
            },
            "text/plain": [
              "'mani'"
            ]
          },
          "execution_count": 14,
          "metadata": {},
          "output_type": "execute_result"
        }
      ],
      "source": [
        "name_list[-1]"
      ]
    },
    {
      "cell_type": "markdown",
      "metadata": {
        "id": "d462PD6Gx6m-"
      },
      "source": [
        "c.Print the elements from index 2 to index 4 in name_list."
      ]
    },
    {
      "cell_type": "code",
      "execution_count": null,
      "metadata": {
        "colab": {
          "base_uri": "https://localhost:8080/"
        },
        "id": "7bt7TKfhx7b_",
        "outputId": "8e431ae8-3e62-4db8-d97a-49ddc06ccbd8"
      },
      "outputs": [
        {
          "data": {
            "text/plain": [
              "['charu', 'mani']"
            ]
          },
          "execution_count": 15,
          "metadata": {},
          "output_type": "execute_result"
        }
      ],
      "source": [
        "name_list[2:5]"
      ]
    },
    {
      "cell_type": "markdown",
      "metadata": {
        "id": "e73WS7NhyAvI"
      },
      "source": [
        "d.Print the elements of name_list in reverse order."
      ]
    },
    {
      "cell_type": "code",
      "execution_count": null,
      "metadata": {
        "colab": {
          "base_uri": "https://localhost:8080/"
        },
        "id": "6vVw8SV9yFIv",
        "outputId": "cff457b4-1a93-4ce1-af9d-f821c6d76649"
      },
      "outputs": [
        {
          "data": {
            "text/plain": [
              "['mani', 'charu', 'priya', 'manoj']"
            ]
          },
          "execution_count": 16,
          "metadata": {},
          "output_type": "execute_result"
        }
      ],
      "source": [
        "name_list[::-1]"
      ]
    },
    {
      "cell_type": "markdown",
      "metadata": {
        "id": "Fj7aqYETyKvm"
      },
      "source": [
        "e.Create a list called list_dup = [1, 2, 1, 1, 3, 1, 2, 5, 9, 1] and print the number of times element ‘1’ has occurred."
      ]
    },
    {
      "cell_type": "code",
      "execution_count": null,
      "metadata": {
        "colab": {
          "base_uri": "https://localhost:8080/"
        },
        "id": "HMcpMboqyM3w",
        "outputId": "5ca2948a-477e-4407-89b9-16404069265c"
      },
      "outputs": [
        {
          "data": {
            "text/plain": [
              "[1, 2, 1, 1, 3, 1, 2, 5, 9, 1]"
            ]
          },
          "execution_count": 17,
          "metadata": {},
          "output_type": "execute_result"
        }
      ],
      "source": [
        "list_dup=[1, 2, 1, 1, 3, 1, 2, 5, 9, 1]\n",
        "list_dup"
      ]
    },
    {
      "cell_type": "code",
      "execution_count": null,
      "metadata": {
        "colab": {
          "base_uri": "https://localhost:8080/"
        },
        "id": "8UFWT_f3yR0A",
        "outputId": "f629ad9d-edf1-413c-b434-25e67640268d"
      },
      "outputs": [
        {
          "data": {
            "text/plain": [
              "5"
            ]
          },
          "execution_count": 18,
          "metadata": {},
          "output_type": "execute_result"
        }
      ],
      "source": [
        "list_dup.count(1)"
      ]
    },
    {
      "cell_type": "markdown",
      "metadata": {
        "id": "ZmS_j0F7yZrn"
      },
      "source": [
        "f.Print length of list_dup."
      ]
    },
    {
      "cell_type": "code",
      "execution_count": null,
      "metadata": {
        "colab": {
          "base_uri": "https://localhost:8080/"
        },
        "id": "8U_OMacJybYn",
        "outputId": "b3eca771-cf07-4652-8cd0-e8c04f48b6f5"
      },
      "outputs": [
        {
          "data": {
            "text/plain": [
              "10"
            ]
          },
          "execution_count": 19,
          "metadata": {},
          "output_type": "execute_result"
        }
      ],
      "source": [
        "len(list_dup)"
      ]
    },
    {
      "cell_type": "markdown",
      "metadata": {
        "id": "Y1QXA7QCyroX"
      },
      "source": [
        "1. Dictionary Creation:"
      ]
    },
    {
      "cell_type": "markdown",
      "metadata": {
        "id": "9qtcHIIKyvun"
      },
      "source": [
        "a.Create a dictionary named student_marks that maps the names of five students to their marks (use scale of from 0 to 100)."
      ]
    },
    {
      "cell_type": "code",
      "execution_count": null,
      "metadata": {
        "id": "ZrmpSDqxyxdq"
      },
      "outputs": [],
      "source": [
        "student_mark={\"manoj\":95,\n",
        "              \"priya\":90,\n",
        "              \"charu\":85,\n",
        "              \"mani\":80,\n",
        "              \"saranya\":75}"
      ]
    },
    {
      "cell_type": "code",
      "execution_count": null,
      "metadata": {
        "colab": {
          "base_uri": "https://localhost:8080/"
        },
        "id": "SgB_0MzfzDDA",
        "outputId": "825fd28c-598b-4345-9dc5-93a9086160fd"
      },
      "outputs": [
        {
          "data": {
            "text/plain": [
              "{'manoj': 95, 'priya': 90, 'charu': 85, 'mani': 80, 'saranya': 75}"
            ]
          },
          "execution_count": 21,
          "metadata": {},
          "output_type": "execute_result"
        }
      ],
      "source": [
        "student_mark"
      ]
    },
    {
      "cell_type": "markdown",
      "metadata": {
        "id": "nLTDFjGWzI12"
      },
      "source": [
        "b.Access and print the mark of a specific student, of your choice."
      ]
    },
    {
      "cell_type": "code",
      "execution_count": null,
      "metadata": {
        "colab": {
          "background_save": true
        },
        "id": "BVZUJYjhzKFn",
        "outputId": "f33ff449-37c0-4001-e82a-fb644fc8181a"
      },
      "outputs": [
        {
          "name": "stdout",
          "output_type": "stream",
          "text": [
            "mani's mark: 80\n"
          ]
        }
      ],
      "source": [
        "student_mark={\"manoj\":95,\n",
        "              \"priya\":90,\n",
        "              \"charu\":85,\n",
        "              \"mani\":80,\n",
        "              \"saranya\":75}\n",
        "print(\"mani's mark:\", student_mark[\"mani\"])"
      ]
    }
  ],
  "metadata": {
    "colab": {
      "provenance": [],
      "authorship_tag": "ABX9TyNQsMrirTdZdqfePOJZD6ot",
      "include_colab_link": true
    },
    "kernelspec": {
      "display_name": "Python 3",
      "name": "python3"
    },
    "language_info": {
      "name": "python"
    }
  },
  "nbformat": 4,
  "nbformat_minor": 0
}