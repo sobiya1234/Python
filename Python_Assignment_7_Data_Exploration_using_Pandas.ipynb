{
  "cells": [
    {
      "cell_type": "markdown",
      "metadata": {
        "id": "view-in-github",
        "colab_type": "text"
      },
      "source": [
        "<a href=\"https://colab.research.google.com/github/sobiya1234/Python/blob/main/Python_Assignment_7_Data_Exploration_using_Pandas.ipynb\" target=\"_parent\"><img src=\"https://colab.research.google.com/assets/colab-badge.svg\" alt=\"Open In Colab\"/></a>"
      ]
    },
    {
      "cell_type": "markdown",
      "source": [],
      "metadata": {
        "id": "IBJ3quO3v4OW"
      }
    },
    {
      "cell_type": "code",
      "source": [
        "import pandas as pd"
      ],
      "metadata": {
        "id": "V6WJDBMUv88T"
      },
      "execution_count": null,
      "outputs": []
    },
    {
      "cell_type": "markdown",
      "source": [
        "1.Creating Pandas Series:"
      ],
      "metadata": {
        "id": "rkljHqyGNOPM"
      }
    },
    {
      "cell_type": "code",
      "source": [
        "#Create a Pandas Series named marks with the following data:\n",
        "marks=(95, 92, 89, 85, 80)\n",
        "indices = ['Rank1', 'Rank2', 'Rank3', 'Rank4', 'Rank5']\n",
        "Marks = pd.Series(marks ,index=indices)\n",
        "print(Marks)\n",
        "\n"
      ],
      "metadata": {
        "id": "e9pCErIWwH6V",
        "outputId": "25a2ffb9-786d-4a37-ad8a-08a8889d9caa",
        "colab": {
          "base_uri": "https://localhost:8080/"
        }
      },
      "execution_count": null,
      "outputs": [
        {
          "output_type": "stream",
          "name": "stdout",
          "text": [
            "Rank1    95\n",
            "Rank2    92\n",
            "Rank3    89\n",
            "Rank4    85\n",
            "Rank5    80\n",
            "dtype: int64\n"
          ]
        }
      ]
    },
    {
      "cell_type": "code",
      "source": [
        "# Use the integer index position to access the mark of the 1st rank student.\n",
        "first_rank_mark = marks[0]\n",
        "print(\"1st rank student:\", first_rank)\n"
      ],
      "metadata": {
        "id": "w2nliX4xzdXP",
        "outputId": "67b8471d-f3c5-4b03-b778-057f358f3dcf",
        "colab": {
          "base_uri": "https://localhost:8080/"
        }
      },
      "execution_count": null,
      "outputs": [
        {
          "output_type": "stream",
          "name": "stdout",
          "text": [
            "1st rank student: 95\n"
          ]
        }
      ]
    },
    {
      "cell_type": "code",
      "source": [
        "#Use the loc accessor to retrieve the marks of the top 3 ranks by specifying their index labels.\n",
        "top_3_marks = Marks.loc[['Rank1', 'Rank2', 'Rank3']]\n",
        "print(\"\\n Marks of top 3 ranks:\\n\", top_3_marks)"
      ],
      "metadata": {
        "id": "gn1XTTZi5WnS",
        "outputId": "33855127-387e-4130-d97a-d7a8481f8288",
        "colab": {
          "base_uri": "https://localhost:8080/"
        }
      },
      "execution_count": null,
      "outputs": [
        {
          "output_type": "stream",
          "name": "stdout",
          "text": [
            "\n",
            " Marks of top 3 ranks:\n",
            " Rank1    95\n",
            "Rank2    92\n",
            "Rank3    89\n",
            "dtype: int64\n"
          ]
        }
      ]
    },
    {
      "cell_type": "code",
      "source": [
        "#Use the iloc accessor to retrieve the mark of the 3rd rank student.\n",
        "third_rank_mark = Marks.iloc[2]\n",
        "print(\"\\n Mark of 3rd rank student:\", third_rank_mark)"
      ],
      "metadata": {
        "id": "B-u8AOdW9RlH",
        "outputId": "782e24fe-d773-4550-a575-aae81b2bea31",
        "colab": {
          "base_uri": "https://localhost:8080/"
        }
      },
      "execution_count": null,
      "outputs": [
        {
          "output_type": "stream",
          "name": "stdout",
          "text": [
            "\n",
            " Mark of 3rd rank student: 89\n"
          ]
        }
      ]
    },
    {
      "cell_type": "code",
      "source": [
        "#Apply a boolean mask to filter the Series and retrieve the ranks where the marks are greater than 90.\n",
        "Mark_above_90 = Marks[Marks > 90]\n",
        "print(\"\\n Ranks with marks greater than 90:\\n\",Mark_above_90)"
      ],
      "metadata": {
        "id": "bcwQDBHF-9sI",
        "outputId": "82e61b73-6452-4eae-8aae-db1a80d9106c",
        "colab": {
          "base_uri": "https://localhost:8080/"
        }
      },
      "execution_count": null,
      "outputs": [
        {
          "output_type": "stream",
          "name": "stdout",
          "text": [
            "\n",
            " Ranks with marks greater than 90:\n",
            " Rank1    95\n",
            "Rank2    92\n",
            "dtype: int64\n"
          ]
        }
      ]
    },
    {
      "cell_type": "markdown",
      "source": [
        "3.Manipulating Series:"
      ],
      "metadata": {
        "id": "vC7sq0zzLfjh"
      }
    },
    {
      "cell_type": "code",
      "source": [
        "#Modify the mark of the student with the 1st rank to 100.\n",
        "marks=(95, 92, 89, 85, 80)\n",
        "indices = ['Rank1', 'Rank2', 'Rank3', 'Rank4', 'Rank5']\n",
        "Marks = pd.Series(marks ,index=indices,name=\"Marks Details\")\n",
        "Marks['Rank1']= 100\n",
        "print(\"Update Marks Rank1:\\n\", Marks)"
      ],
      "metadata": {
        "colab": {
          "base_uri": "https://localhost:8080/"
        },
        "id": "3XBRqDjCLdI_",
        "outputId": "33a5c84b-1f12-4dbd-b95f-d15aba5ab0c1"
      },
      "execution_count": null,
      "outputs": [
        {
          "output_type": "stream",
          "name": "stdout",
          "text": [
            "Update Marks Rank1:\n",
            " Rank1    100\n",
            "Rank2     92\n",
            "Rank3     89\n",
            "Rank4     85\n",
            "Rank5     80\n",
            "Name: Marks Details, dtype: int64\n"
          ]
        }
      ]
    },
    {
      "cell_type": "code",
      "source": [
        "#Compute the CGPA by dividing each mark in the Series by 10.\n",
        "marks=(100, 92, 89, 85, 80)\n",
        "indices = ['Rank1', 'Rank2', 'Rank3', 'Rank4', 'Rank5']\n",
        "Marks = pd.Series(marks ,index=indices,name=\"Marks Details\")\n",
        "CGPA = Marks/10\n",
        "print(\"CGPA (marks divided by 10):\\n\", CGPA)"
      ],
      "metadata": {
        "colab": {
          "base_uri": "https://localhost:8080/"
        },
        "id": "NIhoLTeeL2TN",
        "outputId": "d1075d7d-1f63-4cfa-b262-767a52870a96"
      },
      "execution_count": null,
      "outputs": [
        {
          "output_type": "stream",
          "name": "stdout",
          "text": [
            "CGPA (marks divided by 10):\n",
            " Rank1    10.0\n",
            "Rank2     9.2\n",
            "Rank3     8.9\n",
            "Rank4     8.5\n",
            "Rank5     8.0\n",
            "Name: Marks Details, dtype: float64\n"
          ]
        }
      ]
    },
    {
      "cell_type": "code",
      "source": [
        "#Remove the entry corresponding to the last rank from the Series.\n",
        "marks=(100, 92, 89, 85, 80)\n",
        "indices = ['Rank1', 'Rank2', 'Rank3', 'Rank4', 'Rank5']\n",
        "Marks = pd.Series(marks ,index=indices,name=\"Marks Details\")\n",
        "marks_modified = Marks.drop('Rank5')\n",
        "print(\"\\n3. Marks after removing Rank5:\\n\", marks_modified)"
      ],
      "metadata": {
        "colab": {
          "base_uri": "https://localhost:8080/"
        },
        "id": "UgWOFnWhL9tu",
        "outputId": "ee961057-690c-4aab-b275-c92948880c23"
      },
      "execution_count": null,
      "outputs": [
        {
          "output_type": "stream",
          "name": "stdout",
          "text": [
            "\n",
            "3. Marks after removing Rank5:\n",
            " Rank1    100\n",
            "Rank2     92\n",
            "Rank3     89\n",
            "Rank4     85\n",
            "Name: Marks Details, dtype: int64\n"
          ]
        }
      ]
    },
    {
      "cell_type": "code",
      "source": [
        "#Create a Pandas DataFrame named transactions with the following data:\n",
        "\n",
        "data = {\n",
        "    'TransactionID': [101, 102, 103, 104, 105, 106, 107, 108, 109, 110],\n",
        "    'ProductCategory': ['Electronics', 'Clothing', 'Electronics', 'Furniture','Clothing', 'Electronics', 'Furniture', 'Clothing', 'Furniture', 'Electronics'],\n",
        "    'Region': ['North', 'South', 'North', 'East', 'West','North', 'East', 'West', 'South', 'North'],\n",
        "    'Amount': [200, 150, 300, 450, 200, 250, 300, 180, 350, 400]}\n",
        "\n",
        "transactions = pd.DataFrame(data)\n",
        "\n",
        "print(transactions)"
      ],
      "metadata": {
        "colab": {
          "base_uri": "https://localhost:8080/"
        },
        "id": "PEoBkNkuMCC4",
        "outputId": "d09316b9-9d5b-4f15-be46-1e2468021c2f"
      },
      "execution_count": null,
      "outputs": [
        {
          "output_type": "stream",
          "name": "stdout",
          "text": [
            "   TransactionID ProductCategory Region  Amount\n",
            "0            101     Electronics  North     200\n",
            "1            102        Clothing  South     150\n",
            "2            103     Electronics  North     300\n",
            "3            104       Furniture   East     450\n",
            "4            105        Clothing   West     200\n",
            "5            106     Electronics  North     250\n",
            "6            107       Furniture   East     300\n",
            "7            108        Clothing   West     180\n",
            "8            109       Furniture  South     350\n",
            "9            110     Electronics  North     400\n"
          ]
        }
      ]
    },
    {
      "cell_type": "code",
      "source": [
        "#Display the transactions DataFrame and its basic information, including head, tail, shape, column names, and data types.\n",
        "# Display the full DataFrame\n",
        "print(\"Full DataFrame:\")\n",
        "print(transactions)\n",
        "\n",
        "# Display the first 5 rows\n",
        "print(\"\\nHead (first 5 rows):\")\n",
        "print(transactions.head())\n",
        "\n",
        "# Display the last 5 rows\n",
        "print(\"\\nTail (last 5 rows):\")\n",
        "print(transactions.tail())\n",
        "\n",
        "# Display the shape of the DataFrame\n",
        "print(\"\\nShape of the DataFrame:\")\n",
        "print(transactions.shape)\n",
        "\n",
        "# Display the column names\n",
        "print(\"\\nColumn Names:\")\n",
        "print(transactions.columns.tolist())\n",
        "\n",
        "# Display the data types of each column\n",
        "print(\"\\nData Types:\")\n",
        "print(transactions.dtypes)"
      ],
      "metadata": {
        "colab": {
          "base_uri": "https://localhost:8080/"
        },
        "id": "okotyHCPMHT9",
        "outputId": "e58674cd-76cc-4d7f-913d-848ade077849"
      },
      "execution_count": null,
      "outputs": [
        {
          "output_type": "stream",
          "name": "stdout",
          "text": [
            "Full DataFrame:\n",
            "   TransactionID ProductCategory Region  Amount\n",
            "0            101     Electronics  North     200\n",
            "1            102        Clothing  South     150\n",
            "2            103     Electronics  North     300\n",
            "3            104       Furniture   East     450\n",
            "4            105        Clothing   West     200\n",
            "5            106     Electronics  North     250\n",
            "6            107       Furniture   East     300\n",
            "7            108        Clothing   West     180\n",
            "8            109       Furniture  South     350\n",
            "9            110     Electronics  North     400\n",
            "\n",
            "Head (first 5 rows):\n",
            "   TransactionID ProductCategory Region  Amount\n",
            "0            101     Electronics  North     200\n",
            "1            102        Clothing  South     150\n",
            "2            103     Electronics  North     300\n",
            "3            104       Furniture   East     450\n",
            "4            105        Clothing   West     200\n",
            "\n",
            "Tail (last 5 rows):\n",
            "   TransactionID ProductCategory Region  Amount\n",
            "5            106     Electronics  North     250\n",
            "6            107       Furniture   East     300\n",
            "7            108        Clothing   West     180\n",
            "8            109       Furniture  South     350\n",
            "9            110     Electronics  North     400\n",
            "\n",
            "Shape of the DataFrame:\n",
            "(10, 4)\n",
            "\n",
            "Column Names:\n",
            "['TransactionID', 'ProductCategory', 'Region', 'Amount']\n",
            "\n",
            "Data Types:\n",
            "TransactionID       int64\n",
            "ProductCategory    object\n",
            "Region             object\n",
            "Amount              int64\n",
            "dtype: object\n"
          ]
        }
      ]
    },
    {
      "cell_type": "code",
      "source": [
        "#Display only the 'ProductCategory' and 'Amount' columns.\n",
        "print(transactions[['ProductCategory', 'Amount']])"
      ],
      "metadata": {
        "colab": {
          "base_uri": "https://localhost:8080/"
        },
        "id": "zka2r4aFMOW6",
        "outputId": "5be06abc-ae4e-46bb-e142-62f7a8a8840a"
      },
      "execution_count": null,
      "outputs": [
        {
          "output_type": "stream",
          "name": "stdout",
          "text": [
            "  ProductCategory  Amount\n",
            "0     Electronics     200\n",
            "1        Clothing     150\n",
            "2     Electronics     300\n",
            "3       Furniture     450\n",
            "4        Clothing     200\n",
            "5     Electronics     250\n",
            "6       Furniture     300\n",
            "7        Clothing     180\n",
            "8       Furniture     350\n",
            "9     Electronics     400\n"
          ]
        }
      ]
    },
    {
      "cell_type": "code",
      "source": [
        "#Retrieve the last 3 columns of the DataFrame using iloc or loc.\n",
        "last_three_columns_loc = transactions.iloc[-3:]\n",
        "print(last_three_columns_loc)"
      ],
      "metadata": {
        "colab": {
          "base_uri": "https://localhost:8080/"
        },
        "id": "9F4mk2x3MVvN",
        "outputId": "b35fc816-f009-49ab-e9e5-80cbd120f5c2"
      },
      "execution_count": null,
      "outputs": [
        {
          "output_type": "stream",
          "name": "stdout",
          "text": [
            "   TransactionID ProductCategory Region  Amount\n",
            "7            108        Clothing   West     180\n",
            "8            109       Furniture  South     350\n",
            "9            110     Electronics  North     400\n"
          ]
        }
      ]
    },
    {
      "cell_type": "code",
      "source": [
        "#Filter rows where the 'Region' is 'North' and 'Amount' is greater than 200\n",
        "filtered_rows = transactions[(transactions['Region'] == 'North') & (transactions['Amount'] > 200)]\n",
        "print(filtered_rows)"
      ],
      "metadata": {
        "colab": {
          "base_uri": "https://localhost:8080/"
        },
        "id": "Um2rANe2McWI",
        "outputId": "33436575-db85-4c3e-d8e6-81827cc9ede4"
      },
      "execution_count": null,
      "outputs": [
        {
          "output_type": "stream",
          "name": "stdout",
          "text": [
            "   TransactionID ProductCategory Region  Amount\n",
            "2            103     Electronics  North     300\n",
            "5            106     Electronics  North     250\n",
            "9            110     Electronics  North     400\n"
          ]
        }
      ]
    },
    {
      "cell_type": "code",
      "source": [
        "#Find the value counts for the 'ProductCategory' column.\n",
        "product_counts = transactions['ProductCategory'].value_counts()\n",
        "print(product_counts)"
      ],
      "metadata": {
        "colab": {
          "base_uri": "https://localhost:8080/"
        },
        "id": "bewrZp-XMfPK",
        "outputId": "45b535f7-ab49-4c6d-9bb2-b4c4cd94c2b3"
      },
      "execution_count": null,
      "outputs": [
        {
          "output_type": "stream",
          "name": "stdout",
          "text": [
            "ProductCategory\n",
            "Electronics    4\n",
            "Clothing       3\n",
            "Furniture      3\n",
            "Name: count, dtype: int64\n"
          ]
        }
      ]
    },
    {
      "cell_type": "code",
      "source": [
        "#Find the unique values in the 'Region' column.\n",
        "unique_regions = transactions['Region'].unique()\n",
        "print(unique_regions)"
      ],
      "metadata": {
        "colab": {
          "base_uri": "https://localhost:8080/"
        },
        "id": "iogomA_-MjeA",
        "outputId": "2d5696a5-77c8-4b4f-a7d9-922b72cd4ccf"
      },
      "execution_count": null,
      "outputs": [
        {
          "output_type": "stream",
          "name": "stdout",
          "text": [
            "['North' 'South' 'East' 'West']\n"
          ]
        }
      ]
    },
    {
      "cell_type": "code",
      "source": [
        "#Group by 'Region' and find the mean amount for each region\n",
        "mean_amount_by_region = transactions.groupby('Region')['Amount'].mean()\n",
        "print(mean_amount_by_region)"
      ],
      "metadata": {
        "colab": {
          "base_uri": "https://localhost:8080/"
        },
        "id": "yjANL3whMr7Y",
        "outputId": "b55a1eae-c6a8-4b80-980f-eeb89256b6d0"
      },
      "execution_count": null,
      "outputs": [
        {
          "output_type": "stream",
          "name": "stdout",
          "text": [
            "Region\n",
            "East     375.0\n",
            "North    287.5\n",
            "South    250.0\n",
            "West     190.0\n",
            "Name: Amount, dtype: float64\n"
          ]
        }
      ]
    },
    {
      "cell_type": "code",
      "source": [
        "#Modify the 'Amount' for the transaction with TransactionID 102 to 165.\n",
        "transactions.loc[transactions['TransactionID'] == 102, 'Amount'] = 165\n",
        "print(transactions[transactions['TransactionID'] == 102])"
      ],
      "metadata": {
        "colab": {
          "base_uri": "https://localhost:8080/"
        },
        "id": "K3OOkZbxMv7U",
        "outputId": "4e6ee066-f568-4d8a-c124-0a5952e074c4"
      },
      "execution_count": null,
      "outputs": [
        {
          "output_type": "stream",
          "name": "stdout",
          "text": [
            "   TransactionID ProductCategory Region  Amount\n",
            "1            102        Clothing  South     165\n"
          ]
        }
      ]
    },
    {
      "cell_type": "code",
      "source": [
        "#Add a new column 'Discount' by calculating 10% of the 'Amount'.\n",
        "transactions['Discount'] = transactions['Amount'] * 0.10\n",
        "print(transactions)"
      ],
      "metadata": {
        "colab": {
          "base_uri": "https://localhost:8080/"
        },
        "id": "RlTH_19wM2dd",
        "outputId": "5f88c57a-38d0-4d9b-8f98-46e8aec67d58"
      },
      "execution_count": null,
      "outputs": [
        {
          "output_type": "stream",
          "name": "stdout",
          "text": [
            "   TransactionID ProductCategory Region  Amount  Discount\n",
            "0            101     Electronics  North     200      20.0\n",
            "1            102        Clothing  South     165      16.5\n",
            "2            103     Electronics  North     300      30.0\n",
            "3            104       Furniture   East     450      45.0\n",
            "4            105        Clothing   West     200      20.0\n",
            "5            106     Electronics  North     250      25.0\n",
            "6            107       Furniture   East     300      30.0\n",
            "7            108        Clothing   West     180      18.0\n",
            "8            109       Furniture  South     350      35.0\n",
            "9            110     Electronics  North     400      40.0\n"
          ]
        }
      ]
    },
    {
      "cell_type": "code",
      "source": [
        "#Remove the row with TransactionID 109.\n",
        "transactions = transactions[transactions['TransactionID'] != 109]\n",
        "print(transactions)"
      ],
      "metadata": {
        "colab": {
          "base_uri": "https://localhost:8080/"
        },
        "id": "SneTV54KM4uF",
        "outputId": "27e4c9df-e1d2-46d0-913c-6ef0c7f33738"
      },
      "execution_count": null,
      "outputs": [
        {
          "output_type": "stream",
          "name": "stdout",
          "text": [
            "   TransactionID ProductCategory Region  Amount  Discount\n",
            "0            101     Electronics  North     200      20.0\n",
            "1            102        Clothing  South     165      16.5\n",
            "2            103     Electronics  North     300      30.0\n",
            "3            104       Furniture   East     450      45.0\n",
            "4            105        Clothing   West     200      20.0\n",
            "5            106     Electronics  North     250      25.0\n",
            "6            107       Furniture   East     300      30.0\n",
            "7            108        Clothing   West     180      18.0\n",
            "9            110     Electronics  North     400      40.0\n"
          ]
        }
      ]
    },
    {
      "cell_type": "code",
      "source": [
        "#Delete the 'Discount' column from the DataFrame.\n",
        "transactions = transactions.drop(columns=['Discount'])\n",
        "print(transactions)"
      ],
      "metadata": {
        "colab": {
          "base_uri": "https://localhost:8080/"
        },
        "id": "wxDwcS5MM9A5",
        "outputId": "afe0c019-8a6a-4edc-f854-25a09c81e403"
      },
      "execution_count": null,
      "outputs": [
        {
          "output_type": "stream",
          "name": "stdout",
          "text": [
            "   TransactionID ProductCategory Region  Amount\n",
            "0            101     Electronics  North     200\n",
            "1            102        Clothing  South     165\n",
            "2            103     Electronics  North     300\n",
            "3            104       Furniture   East     450\n",
            "4            105        Clothing   West     200\n",
            "5            106     Electronics  North     250\n",
            "6            107       Furniture   East     300\n",
            "7            108        Clothing   West     180\n",
            "9            110     Electronics  North     400\n"
          ]
        }
      ]
    },
    {
      "cell_type": "markdown",
      "source": [
        "4.Data Wrangling:\n"
      ],
      "metadata": {
        "id": "DNAwZ_EXNFSn"
      }
    },
    {
      "cell_type": "code",
      "source": [
        "# Create a Pandas DataFrame named profit_data with the following data:\n",
        "#\tTransactionID: 101, 102, 103, 105, 106, 107, 108, 109, 110\n",
        "# Profit: 50, 20, 70, 40, 60, 80, 30, 90, 110\n",
        "\n",
        "profit_info = {\n",
        "    'TransactionID': [101, 102, 103, 105, 106, 107, 108, 109, 110],\n",
        "    'Profit': [50, 20, 70, 40, 60, 80, 30, 90, 110]}\n",
        "\n",
        "profit_data = pd.DataFrame(profit_info)\n",
        "\n",
        "print(profit_data)"
      ],
      "metadata": {
        "colab": {
          "base_uri": "https://localhost:8080/"
        },
        "id": "1JtVNxWKNI1Y",
        "outputId": "ad9d9664-40aa-4d75-e878-e23a0522debe"
      },
      "execution_count": null,
      "outputs": [
        {
          "output_type": "stream",
          "name": "stdout",
          "text": [
            "   TransactionID  Profit\n",
            "0            101      50\n",
            "1            102      20\n",
            "2            103      70\n",
            "3            105      40\n",
            "4            106      60\n",
            "5            107      80\n",
            "6            108      30\n",
            "7            109      90\n",
            "8            110     110\n"
          ]
        }
      ]
    },
    {
      "cell_type": "code",
      "source": [
        "#Merge the transactions DataFrame with the profits DataFrame using a left join.\n",
        "merged_data = transactions.merge(profit_data, on='TransactionID', how='left')\n",
        "print(merged_data)"
      ],
      "metadata": {
        "colab": {
          "base_uri": "https://localhost:8080/"
        },
        "id": "2ITn8WBsOrCt",
        "outputId": "fc0baed3-ffbc-4ce5-c12d-16e709dcaca6"
      },
      "execution_count": null,
      "outputs": [
        {
          "output_type": "stream",
          "name": "stdout",
          "text": [
            "   TransactionID ProductCategory Region  Amount  Profit\n",
            "0            101     Electronics  North     200    50.0\n",
            "1            102        Clothing  South     165    20.0\n",
            "2            103     Electronics  North     300    70.0\n",
            "3            104       Furniture   East     450     NaN\n",
            "4            105        Clothing   West     200    40.0\n",
            "5            106     Electronics  North     250    60.0\n",
            "6            107       Furniture   East     300    80.0\n",
            "7            108        Clothing   West     180    30.0\n",
            "8            110     Electronics  North     400   110.0\n"
          ]
        }
      ]
    },
    {
      "cell_type": "code",
      "source": [
        "#\tConcatenate another DataFrame with additional TransactionIDs 111 and 112. This additional DataFrame should have the following data:\n",
        "#\tTransactionID: [111, 112]\n",
        "#\tProductCategory: ['Toys', 'Books']\n",
        "#\tRegion: ['North', 'South']\n",
        "# Amount: [220, 170]\n",
        "\n",
        "additional_data = pd.DataFrame({\n",
        "    'TransactionID': [111, 112],\n",
        "    'ProductCategory': ['Toys', 'Books'],\n",
        "    'Region': ['North', 'South'],\n",
        "    'Amount': [220, 170]})\n",
        "\n",
        "transactions = pd.concat([transactions, additional_data], ignore_index=True)\n",
        "\n",
        "print(transactions)"
      ],
      "metadata": {
        "colab": {
          "base_uri": "https://localhost:8080/"
        },
        "id": "DAHWYKknOtkh",
        "outputId": "f0323831-e26d-4536-bd4a-beec2c7db313"
      },
      "execution_count": null,
      "outputs": [
        {
          "output_type": "stream",
          "name": "stdout",
          "text": [
            "    TransactionID ProductCategory Region  Amount\n",
            "0             101     Electronics  North     200\n",
            "1             102        Clothing  South     165\n",
            "2             103     Electronics  North     300\n",
            "3             104       Furniture   East     450\n",
            "4             105        Clothing   West     200\n",
            "5             106     Electronics  North     250\n",
            "6             107       Furniture   East     300\n",
            "7             108        Clothing   West     180\n",
            "8             110     Electronics  North     400\n",
            "9             111            Toys  North     220\n",
            "10            112           Books  South     170\n"
          ]
        }
      ]
    }
  ],
  "metadata": {
    "colab": {
      "provenance": [],
      "include_colab_link": true
    },
    "kernelspec": {
      "display_name": "Python 3",
      "name": "python3"
    }
  },
  "nbformat": 4,
  "nbformat_minor": 0
}