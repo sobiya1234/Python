{
  "nbformat": 4,
  "nbformat_minor": 0,
  "metadata": {
    "colab": {
      "provenance": [],
      "authorship_tag": "ABX9TyNc65e2Gs7yDJfmJglHxvYn",
      "include_colab_link": true
    },
    "kernelspec": {
      "name": "python3",
      "display_name": "Python 3"
    },
    "language_info": {
      "name": "python"
    }
  },
  "cells": [
    {
      "cell_type": "markdown",
      "metadata": {
        "id": "view-in-github",
        "colab_type": "text"
      },
      "source": [
        "<a href=\"https://colab.research.google.com/github/sobiya1234/Python/blob/main/Python_Assignment_1_Data_Structures_Strings_%26_Tuples.ipynb\" target=\"_parent\"><img src=\"https://colab.research.google.com/assets/colab-badge.svg\" alt=\"Open In Colab\"/></a>"
      ]
    },
    {
      "cell_type": "markdown",
      "source": [
        "# 1. String Concatenation:"
      ],
      "metadata": {
        "id": "-KzvkhJs949n"
      }
    },
    {
      "cell_type": "code",
      "source": [
        "String1= \"Hello \"\n",
        "String2= input(\"Enter Your Name: \")"
      ],
      "metadata": {
        "colab": {
          "base_uri": "https://localhost:8080/"
        },
        "id": "fz88aucq1eBs",
        "outputId": "9835f766-ab83-4aaf-c9f1-14b1a5eecbe9"
      },
      "execution_count": null,
      "outputs": [
        {
          "name": "stdout",
          "output_type": "stream",
          "text": [
            "Enter Your Name: Sobiya\n"
          ]
        }
      ]
    },
    {
      "cell_type": "code",
      "source": [
        "result = String1  +  String2"
      ],
      "metadata": {
        "id": "gFGkjRam241D"
      },
      "execution_count": null,
      "outputs": []
    },
    {
      "cell_type": "code",
      "source": [
        "print(result)\n"
      ],
      "metadata": {
        "colab": {
          "base_uri": "https://localhost:8080/"
        },
        "id": "cCbiy4Uj3Yca",
        "outputId": "683fdfb8-20aa-482d-a118-f71b04b04106"
      },
      "execution_count": null,
      "outputs": [
        {
          "output_type": "stream",
          "name": "stdout",
          "text": [
            "Hello Sobiya\n"
          ]
        }
      ]
    },
    {
      "cell_type": "code",
      "source": [
        "String3 = \", welcome to Python programing\""
      ],
      "metadata": {
        "id": "i8vT8jLP3a-a"
      },
      "execution_count": null,
      "outputs": []
    },
    {
      "cell_type": "code",
      "source": [
        "final_message = result + String3"
      ],
      "metadata": {
        "id": "JxGkvGF43zI5"
      },
      "execution_count": null,
      "outputs": []
    },
    {
      "cell_type": "code",
      "source": [
        "print(final_message)"
      ],
      "metadata": {
        "colab": {
          "base_uri": "https://localhost:8080/"
        },
        "id": "2dKmQzDI353J",
        "outputId": "58be63d9-05be-4dd3-9176-4bd3872ffd36"
      },
      "execution_count": null,
      "outputs": [
        {
          "output_type": "stream",
          "name": "stdout",
          "text": [
            "Hello Sobiya, welcome to Python programing\n"
          ]
        }
      ]
    },
    {
      "cell_type": "markdown",
      "source": [
        "# 2.String Slicing and Indexing:"
      ],
      "metadata": {
        "id": "S0La2_s8-kL7"
      }
    },
    {
      "cell_type": "code",
      "source": [
        "len(final_message)"
      ],
      "metadata": {
        "colab": {
          "base_uri": "https://localhost:8080/"
        },
        "id": "lnEShrq04IH9",
        "outputId": "05c04b4d-f503-48aa-df0e-2172ee0b2148"
      },
      "execution_count": null,
      "outputs": [
        {
          "output_type": "execute_result",
          "data": {
            "text/plain": [
              "42"
            ]
          },
          "metadata": {},
          "execution_count": 24
        }
      ]
    },
    {
      "cell_type": "code",
      "source": [
        "final_message[0]"
      ],
      "metadata": {
        "colab": {
          "base_uri": "https://localhost:8080/",
          "height": 36
        },
        "id": "wgHbGXyJ4MU8",
        "outputId": "9e95f4b6-e5cb-4370-a54a-a110e10146e8"
      },
      "execution_count": null,
      "outputs": [
        {
          "output_type": "execute_result",
          "data": {
            "text/plain": [
              "'H'"
            ],
            "application/vnd.google.colaboratory.intrinsic+json": {
              "type": "string"
            }
          },
          "metadata": {},
          "execution_count": 26
        }
      ]
    },
    {
      "cell_type": "markdown",
      "source": [
        "# b. Print the last character of the string."
      ],
      "metadata": {
        "id": "Tj58Oov6-_mp"
      }
    },
    {
      "cell_type": "code",
      "source": [
        "final_message[-1]"
      ],
      "metadata": {
        "colab": {
          "base_uri": "https://localhost:8080/",
          "height": 36
        },
        "id": "K8KnennH4ZYg",
        "outputId": "b4d91518-ab5a-46a5-d1ec-f95ac3f7d185"
      },
      "execution_count": null,
      "outputs": [
        {
          "output_type": "execute_result",
          "data": {
            "text/plain": [
              "'g'"
            ],
            "application/vnd.google.colaboratory.intrinsic+json": {
              "type": "string"
            }
          },
          "metadata": {},
          "execution_count": 29
        }
      ]
    },
    {
      "cell_type": "markdown",
      "source": [
        "# c. Print the first 5 characters of the string."
      ],
      "metadata": {
        "id": "FmHrZib6_Fce"
      }
    },
    {
      "cell_type": "code",
      "source": [
        "final_message[:5]"
      ],
      "metadata": {
        "colab": {
          "base_uri": "https://localhost:8080/",
          "height": 36
        },
        "id": "tOYQRgYW4nCQ",
        "outputId": "75df3c69-93f8-4e43-f78d-b9efd4f37770"
      },
      "execution_count": null,
      "outputs": [
        {
          "output_type": "execute_result",
          "data": {
            "text/plain": [
              "'Hello'"
            ],
            "application/vnd.google.colaboratory.intrinsic+json": {
              "type": "string"
            }
          },
          "metadata": {},
          "execution_count": 32
        }
      ]
    },
    {
      "cell_type": "markdown",
      "source": [
        "# d. Print the last 11 characters of the string."
      ],
      "metadata": {
        "id": "18as98js_M0s"
      }
    },
    {
      "cell_type": "code",
      "source": [
        "final_message[-11:]"
      ],
      "metadata": {
        "colab": {
          "base_uri": "https://localhost:8080/",
          "height": 36
        },
        "id": "4fSuRnj84yRz",
        "outputId": "6b5ff606-ae2e-4844-f573-cae64ef2fd5e"
      },
      "execution_count": null,
      "outputs": [
        {
          "output_type": "execute_result",
          "data": {
            "text/plain": [
              "' programing'"
            ],
            "application/vnd.google.colaboratory.intrinsic+json": {
              "type": "string"
            }
          },
          "metadata": {},
          "execution_count": 36
        }
      ]
    },
    {
      "cell_type": "markdown",
      "source": [
        "# e. Print the string in reverse."
      ],
      "metadata": {
        "id": "4ArAvmNz_kNn"
      }
    },
    {
      "cell_type": "code",
      "source": [
        "final_message[::-1]"
      ],
      "metadata": {
        "colab": {
          "base_uri": "https://localhost:8080/",
          "height": 36
        },
        "id": "6FDywGTi5Aqt",
        "outputId": "361eeeb6-e2f4-4e75-96c8-161c22692609"
      },
      "execution_count": null,
      "outputs": [
        {
          "output_type": "execute_result",
          "data": {
            "text/plain": [
              "'gnimargorp nohtyP ot emoclew ,ayiboS olleH'"
            ],
            "application/vnd.google.colaboratory.intrinsic+json": {
              "type": "string"
            }
          },
          "metadata": {},
          "execution_count": 40
        }
      ]
    },
    {
      "cell_type": "markdown",
      "source": [
        "# f. Use slicing and print the word “Python” from the existing string."
      ],
      "metadata": {
        "id": "QuTlpbk2_pyp"
      }
    },
    {
      "cell_type": "code",
      "source": [
        "print_world = final_message[-18:-11]"
      ],
      "metadata": {
        "id": "nXlBI55T5MuA"
      },
      "execution_count": null,
      "outputs": []
    },
    {
      "cell_type": "code",
      "source": [
        "print(print_world)"
      ],
      "metadata": {
        "colab": {
          "base_uri": "https://localhost:8080/"
        },
        "id": "wdaswAKo5QS1",
        "outputId": "2ef0b767-dfe1-4132-e2b5-7f48e121e29c"
      },
      "execution_count": null,
      "outputs": [
        {
          "output_type": "stream",
          "name": "stdout",
          "text": [
            " Python\n"
          ]
        }
      ]
    },
    {
      "cell_type": "markdown",
      "source": [
        "# 3. String Methods:"
      ],
      "metadata": {
        "id": "ChwvyIb5_uJe"
      }
    },
    {
      "cell_type": "code",
      "source": [
        "strM = \"Python beginner tutorial\""
      ],
      "metadata": {
        "id": "rkLf6RSn5f6r"
      },
      "execution_count": null,
      "outputs": []
    },
    {
      "cell_type": "markdown",
      "source": [
        "# a. Convert the sentence to uppercase."
      ],
      "metadata": {
        "id": "2G_X6C9a_yQe"
      }
    },
    {
      "cell_type": "code",
      "source": [
        "strM.upper()"
      ],
      "metadata": {
        "colab": {
          "base_uri": "https://localhost:8080/",
          "height": 36
        },
        "id": "PLC0-y1-5rPz",
        "outputId": "0fb88356-f952-434c-8421-5621157ec1db"
      },
      "execution_count": null,
      "outputs": [
        {
          "output_type": "execute_result",
          "data": {
            "text/plain": [
              "'PYTHON BEGINNER TUTORIAL'"
            ],
            "application/vnd.google.colaboratory.intrinsic+json": {
              "type": "string"
            }
          },
          "metadata": {},
          "execution_count": 51
        }
      ]
    },
    {
      "cell_type": "markdown",
      "source": [
        "# b. Convert the sentence to lowercase."
      ],
      "metadata": {
        "id": "Ydfer7YO_2Ax"
      }
    },
    {
      "cell_type": "code",
      "source": [
        "strM.lower()"
      ],
      "metadata": {
        "colab": {
          "base_uri": "https://localhost:8080/",
          "height": 36
        },
        "id": "wr3J9W8P51NL",
        "outputId": "3563627e-41a1-42c8-e61a-89357724d81c"
      },
      "execution_count": null,
      "outputs": [
        {
          "output_type": "execute_result",
          "data": {
            "text/plain": [
              "'python beginner tutorial'"
            ],
            "application/vnd.google.colaboratory.intrinsic+json": {
              "type": "string"
            }
          },
          "metadata": {},
          "execution_count": 54
        }
      ]
    },
    {
      "cell_type": "markdown",
      "source": [
        "# c. Use Capitalize and return the sentence to the original input form"
      ],
      "metadata": {
        "id": "1bmEdo3g_571"
      }
    },
    {
      "cell_type": "code",
      "source": [
        "strM.capitalize()\n",
        "print(strM)"
      ],
      "metadata": {
        "colab": {
          "base_uri": "https://localhost:8080/"
        },
        "id": "6q-0Cfpr6BtM",
        "outputId": "320e2267-6c9d-44a9-f1f9-5d4753552803"
      },
      "execution_count": null,
      "outputs": [
        {
          "output_type": "stream",
          "name": "stdout",
          "text": [
            "Python beginner tutorial\n"
          ]
        }
      ]
    },
    {
      "cell_type": "markdown",
      "source": [
        "# d. Count the total number of occurrences of character ‘t’ in the string."
      ],
      "metadata": {
        "id": "47ySGfkr_-nP"
      }
    },
    {
      "cell_type": "code",
      "source": [
        "strM.count('t')"
      ],
      "metadata": {
        "colab": {
          "base_uri": "https://localhost:8080/"
        },
        "id": "ztHxYTd96Mvn",
        "outputId": "6caf20b7-1ba3-49a5-d878-f9e62da1067e"
      },
      "execution_count": null,
      "outputs": [
        {
          "output_type": "execute_result",
          "data": {
            "text/plain": [
              "3"
            ]
          },
          "metadata": {},
          "execution_count": 62
        }
      ]
    },
    {
      "cell_type": "markdown",
      "source": [
        "# e. Replace all occurrences of “Python” with “Machine Learning” in the input string\n",
        "strM = “Python beginner tutorial”"
      ],
      "metadata": {
        "id": "HzvORAc5ACY-"
      }
    },
    {
      "cell_type": "code",
      "source": [
        "strM.replace(\"Python\", \"Machine Learning\")"
      ],
      "metadata": {
        "colab": {
          "base_uri": "https://localhost:8080/",
          "height": 36
        },
        "id": "0ahZmRbw6ogV",
        "outputId": "4fc093fb-2f80-48d4-d7dd-90d6f1c724d1"
      },
      "execution_count": null,
      "outputs": [
        {
          "output_type": "execute_result",
          "data": {
            "text/plain": [
              "'Machine Learning beginner tutorial'"
            ],
            "application/vnd.google.colaboratory.intrinsic+json": {
              "type": "string"
            }
          },
          "metadata": {},
          "execution_count": 65
        }
      ]
    },
    {
      "cell_type": "markdown",
      "source": [
        "# Tuples"
      ],
      "metadata": {
        "id": "dWDcalPYAHX-"
      }
    },
    {
      "cell_type": "code",
      "source": [
        "t1 = 10,20,30\n",
        "t2 = 40,50,60"
      ],
      "metadata": {
        "id": "X01W1xQI68Zy"
      },
      "execution_count": null,
      "outputs": []
    },
    {
      "cell_type": "markdown",
      "source": [
        "# a.Concatenate the two tuples and store it in “t_combine”"
      ],
      "metadata": {
        "id": "Q16aj7GWALxb"
      }
    },
    {
      "cell_type": "code",
      "source": [
        "t_combine = t1 + t2"
      ],
      "metadata": {
        "id": "-fkyA4wC7VYl"
      },
      "execution_count": null,
      "outputs": []
    },
    {
      "cell_type": "code",
      "source": [
        "print(\"Concatenated tuple:\", t_combine)"
      ],
      "metadata": {
        "colab": {
          "base_uri": "https://localhost:8080/"
        },
        "id": "Vd0kPVYf7b6e",
        "outputId": "17e02b20-9348-49b5-92b0-7e5f6f1fcb37"
      },
      "execution_count": null,
      "outputs": [
        {
          "output_type": "stream",
          "name": "stdout",
          "text": [
            "Concatenated tuple: (10, 20, 30, 40, 50, 60)\n"
          ]
        }
      ]
    },
    {
      "cell_type": "markdown",
      "source": [
        "# b.Repeat the elements of “t_combine” 3 times"
      ],
      "metadata": {
        "id": "t4fliox7AS_B"
      }
    },
    {
      "cell_type": "code",
      "source": [
        "print(t_combine*3)"
      ],
      "metadata": {
        "colab": {
          "base_uri": "https://localhost:8080/"
        },
        "id": "wIZ3Ge5F7mTx",
        "outputId": "7bea25a7-dc6c-44eb-f730-d9e402294c9c"
      },
      "execution_count": null,
      "outputs": [
        {
          "output_type": "stream",
          "name": "stdout",
          "text": [
            "(10, 20, 30, 40, 50, 60, 10, 20, 30, 40, 50, 60, 10, 20, 30, 40, 50, 60)\n"
          ]
        }
      ]
    },
    {
      "cell_type": "markdown",
      "source": [
        "# c.Access the 3rd element from “t_combine”"
      ],
      "metadata": {
        "id": "ZA-kJpsnAW8R"
      }
    },
    {
      "cell_type": "code",
      "source": [
        "t_combine[2]"
      ],
      "metadata": {
        "colab": {
          "base_uri": "https://localhost:8080/"
        },
        "id": "qxqcZK5I72zg",
        "outputId": "f1b0adc4-1932-4dc1-e286-c2f153b08849"
      },
      "execution_count": null,
      "outputs": [
        {
          "output_type": "execute_result",
          "data": {
            "text/plain": [
              "30"
            ]
          },
          "metadata": {},
          "execution_count": 80
        }
      ]
    },
    {
      "cell_type": "markdown",
      "source": [
        "# d.Access the first three elements from “t_combine”"
      ],
      "metadata": {
        "id": "BJPNgBpsAaNv"
      }
    },
    {
      "cell_type": "code",
      "source": [
        "t_combine[:3]"
      ],
      "metadata": {
        "colab": {
          "base_uri": "https://localhost:8080/"
        },
        "id": "qGgok0EL8EsX",
        "outputId": "cb9126a9-79ea-4720-fc2e-09f1e052d5e3"
      },
      "execution_count": null,
      "outputs": [
        {
          "output_type": "execute_result",
          "data": {
            "text/plain": [
              "(10, 20, 30)"
            ]
          },
          "metadata": {},
          "execution_count": 83
        }
      ]
    },
    {
      "cell_type": "markdown",
      "source": [
        "# e. Access the last three elements from “t_combine”"
      ],
      "metadata": {
        "id": "t5ci2MvGAhbO"
      }
    },
    {
      "cell_type": "code",
      "source": [
        "t_combine[-3:]"
      ],
      "metadata": {
        "colab": {
          "base_uri": "https://localhost:8080/"
        },
        "id": "aTBKNkXV8SCb",
        "outputId": "902cdd23-566b-4ca1-89d5-7d47a27bbeed"
      },
      "execution_count": null,
      "outputs": [
        {
          "output_type": "execute_result",
          "data": {
            "text/plain": [
              "(40, 50, 60)"
            ]
          },
          "metadata": {},
          "execution_count": 85
        }
      ]
    }
  ]
}